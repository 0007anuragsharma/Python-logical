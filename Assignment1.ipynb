{
  "nbformat": 4,
  "nbformat_minor": 0,
  "metadata": {
    "colab": {
      "provenance": [],
      "authorship_tag": "ABX9TyMuSAym7D844Ce+YdYjFwe3",
      "include_colab_link": true
    },
    "kernelspec": {
      "name": "python3",
      "display_name": "Python 3"
    },
    "language_info": {
      "name": "python"
    }
  },
  "cells": [
    {
      "cell_type": "markdown",
      "metadata": {
        "id": "view-in-github",
        "colab_type": "text"
      },
      "source": [
        "<a href=\"https://colab.research.google.com/github/0007anuragsharma/Python-logical/blob/main/Assignment1.ipynb\" target=\"_parent\"><img src=\"https://colab.research.google.com/assets/colab-badge.svg\" alt=\"Open In Colab\"/></a>"
      ]
    },
    {
      "cell_type": "code",
      "execution_count": null,
      "metadata": {
        "colab": {
          "base_uri": "https://localhost:8080/"
        },
        "id": "XmrzcrwSoVhe",
        "outputId": "19827407-8f4e-4b78-a1d9-1be4b4b29666"
      },
      "outputs": [
        {
          "output_type": "stream",
          "name": "stdout",
          "text": [
            "[1, 2, 3, 4, 5, 6, 2, 4, 5, 8]\n"
          ]
        }
      ],
      "source": [
        "#1)\n",
        "list1=[1,2,3,4,5]\n",
        "list2=[6,2,4,5,8]\n",
        "print(list1+list2)"
      ]
    },
    {
      "cell_type": "code",
      "source": [
        "#2)\n",
        "\n",
        "list3=['anurag','bhumika','ajay','anikat']\n",
        "list3.sort(key=len)\n",
        "print(list3)\n"
      ],
      "metadata": {
        "colab": {
          "base_uri": "https://localhost:8080/"
        },
        "id": "oZGk4BXNpREh",
        "outputId": "3290b692-c10d-43af-d9b9-168405aa5f74"
      },
      "execution_count": null,
      "outputs": [
        {
          "output_type": "stream",
          "name": "stdout",
          "text": [
            "['ajay', 'anurag', 'anikat', 'bhumika']\n"
          ]
        }
      ]
    },
    {
      "cell_type": "code",
      "source": [
        "#3)\n",
        "list1=[1,2,3,4,5]\n",
        "list2=list1*2\n",
        "print(list2)\n"
      ],
      "metadata": {
        "colab": {
          "base_uri": "https://localhost:8080/"
        },
        "id": "DIK1ZqfGqEDA",
        "outputId": "aea78d20-feee-4590-9d35-e53d11c8709b"
      },
      "execution_count": null,
      "outputs": [
        {
          "output_type": "stream",
          "name": "stdout",
          "text": [
            "[1, 2, 3, 4, 5, 1, 2, 3, 4, 5]\n"
          ]
        }
      ]
    },
    {
      "cell_type": "code",
      "source": [
        "#4)\n",
        "list=[1,2,3,4,5,6,7]\n",
        "list.append(77)\n",
        "print(list)"
      ],
      "metadata": {
        "colab": {
          "base_uri": "https://localhost:8080/"
        },
        "id": "SQuDxrXXrBcT",
        "outputId": "f05d4146-98fc-47f5-8f30-0c700f118460"
      },
      "execution_count": null,
      "outputs": [
        {
          "output_type": "stream",
          "name": "stdout",
          "text": [
            "[1, 2, 3, 4, 5, 6, 7, 77]\n"
          ]
        }
      ]
    },
    {
      "cell_type": "code",
      "source": [
        "#5)\n",
        "list=[2,3,5,6,7,8,9]\n",
        "list.remove(3)\n",
        "print(list)\n"
      ],
      "metadata": {
        "colab": {
          "base_uri": "https://localhost:8080/"
        },
        "id": "XXNS2OOurxn4",
        "outputId": "eafa1cfd-14b5-428a-c4db-8f22e5a8e5c6"
      },
      "execution_count": null,
      "outputs": [
        {
          "output_type": "stream",
          "name": "stdout",
          "text": [
            "[2, 5, 6, 7, 8, 9]\n"
          ]
        }
      ]
    },
    {
      "cell_type": "code",
      "source": [
        "#6)\n",
        "list=[2,3,4,5,6,7]\n",
        "list.pop(1)"
      ],
      "metadata": {
        "colab": {
          "base_uri": "https://localhost:8080/"
        },
        "id": "8aadaGGws5H7",
        "outputId": "26b2c1c9-73c9-489c-f8db-288c357e90a0"
      },
      "execution_count": null,
      "outputs": [
        {
          "output_type": "execute_result",
          "data": {
            "text/plain": [
              "3"
            ]
          },
          "metadata": {},
          "execution_count": 20
        }
      ]
    },
    {
      "cell_type": "code",
      "source": [
        "#7)\n",
        "list=[1,6,9,3,7,4,1,6,0,]\n",
        "list.sort()\n",
        "print(list)"
      ],
      "metadata": {
        "colab": {
          "base_uri": "https://localhost:8080/"
        },
        "id": "eBAyX9E7s4vu",
        "outputId": "ef5c0c49-849e-42e7-c991-17f40710f0f7"
      },
      "execution_count": null,
      "outputs": [
        {
          "output_type": "stream",
          "name": "stdout",
          "text": [
            "[0, 1, 1, 3, 4, 6, 6, 7, 9]\n"
          ]
        }
      ]
    },
    {
      "cell_type": "code",
      "source": [
        "#8)\n",
        "tuple=int(input('enter your your number'))\n",
        "if tuple<=1 and tuple<=100:\n",
        "  print('your number is in range')\n",
        "else:\n",
        "  print('your number is not in range')\n",
        "\n",
        "\n"
      ],
      "metadata": {
        "colab": {
          "base_uri": "https://localhost:8080/"
        },
        "id": "I0axHg5ltwnb",
        "outputId": "40dec586-3e09-4edc-93d8-d7b273529062"
      },
      "execution_count": null,
      "outputs": [
        {
          "output_type": "stream",
          "name": "stdout",
          "text": [
            "enter your your number34\n",
            "your number is not in range\n"
          ]
        }
      ]
    },
    {
      "cell_type": "code",
      "source": [
        "#9)\n",
        "list=[1,2,3,4,5,6,7,8,9]\n",
        "list.clear()\n",
        "print(list)\n"
      ],
      "metadata": {
        "colab": {
          "base_uri": "https://localhost:8080/"
        },
        "id": "KDBD4qyTu_eb",
        "outputId": "77f48575-2d18-459b-bdc3-f6b3225b3564"
      },
      "execution_count": null,
      "outputs": [
        {
          "output_type": "stream",
          "name": "stdout",
          "text": [
            "[]\n"
          ]
        }
      ]
    },
    {
      "cell_type": "code",
      "source": [
        "#10)\n",
        "tuple=(1,2,3,4,5,6)\n",
        "tuple2=(11,22,33,44,55,66)\n",
        "print(tuple+tuple2)\n"
      ],
      "metadata": {
        "colab": {
          "base_uri": "https://localhost:8080/"
        },
        "id": "MYXUsYubxvZv",
        "outputId": "50c05274-4987-43f1-8890-ee6b1255adcf"
      },
      "execution_count": null,
      "outputs": [
        {
          "output_type": "stream",
          "name": "stdout",
          "text": [
            "(1, 2, 3, 4, 5, 6, 11, 22, 33, 44, 55, 66)\n"
          ]
        }
      ]
    },
    {
      "cell_type": "code",
      "source": [
        "#11)\n",
        "list=[1,2,3,4,5,6,7,8,9,10]\n",
        "list.index(10)\n",
        "\n"
      ],
      "metadata": {
        "colab": {
          "base_uri": "https://localhost:8080/"
        },
        "id": "OnF5LGqtyY-y",
        "outputId": "59954f19-cd41-4a36-9643-c8a2b7d0f4e8"
      },
      "execution_count": null,
      "outputs": [
        {
          "output_type": "execute_result",
          "data": {
            "text/plain": [
              "9"
            ]
          },
          "metadata": {},
          "execution_count": 34
        }
      ]
    },
    {
      "cell_type": "code",
      "source": [
        "#12) This is a tuple with one element\n",
        "tuple=('anurag')\n"
      ],
      "metadata": {
        "id": "BXZjYQlrys6v"
      },
      "execution_count": null,
      "outputs": []
    },
    {
      "cell_type": "code",
      "source": [
        "#13)To reverse the element use reverse operator\n",
        "list=[1,2,3,4,5,6,7,8,9,9]\n",
        "list.reverse()\n",
        "print(list)\n"
      ],
      "metadata": {
        "colab": {
          "base_uri": "https://localhost:8080/"
        },
        "id": "58CiyRlMzREd",
        "outputId": "3c417169-74ed-4c28-f928-dbf2937a6284"
      },
      "execution_count": null,
      "outputs": [
        {
          "output_type": "stream",
          "name": "stdout",
          "text": [
            "[9, 9, 8, 7, 6, 5, 4, 3, 2, 1]\n"
          ]
        }
      ]
    },
    {
      "cell_type": "code",
      "source": [
        "#14)\n"
      ],
      "metadata": {
        "id": "PVB0OuFwzxX8"
      },
      "execution_count": null,
      "outputs": []
    },
    {
      "cell_type": "code",
      "source": [
        "#15)use count operator to find elements\n",
        "list=[1,2,3,4,5,6,7,6,4,3,3,1,7,9]\n",
        "list.count(3)\n",
        "\n"
      ],
      "metadata": {
        "colab": {
          "base_uri": "https://localhost:8080/"
        },
        "id": "iEbIcEPN0rM3",
        "outputId": "348fc2d6-4bd1-47af-e39b-acf1a916182c"
      },
      "execution_count": null,
      "outputs": [
        {
          "output_type": "execute_result",
          "data": {
            "text/plain": [
              "3"
            ]
          },
          "metadata": {},
          "execution_count": 38
        }
      ]
    },
    {
      "cell_type": "code",
      "source": [
        "#16)Slice of first three elements\n",
        "#list=[1,2,3,4,5]\n",
        "#list[:3]\n",
        "\n"
      ],
      "metadata": {
        "id": "DLJaJoIu25zN"
      },
      "execution_count": null,
      "outputs": []
    },
    {
      "cell_type": "code",
      "source": [
        "#17)Defference between the append and extend\n",
        "\"\"\"append() adds its argument as a single element at the end of the list.\n",
        "extend() iterates over its argument and adds each element to the list.\n",
        "Use append() when you want to add a single item, and use extend() when you want to concatenate another iterable to your list.\"\"\"\n",
        "\n",
        "\n",
        "list=[1,2,3,4,5]\n",
        "list.append(6)\n",
        "print(list)\n",
        "\n",
        "\n",
        "list1=[22,33,44,55,66]\n",
        "list1.extend([2,98])\n",
        "print(list1)\n"
      ],
      "metadata": {
        "colab": {
          "base_uri": "https://localhost:8080/"
        },
        "id": "KVjIhqa_40PO",
        "outputId": "4b29c41f-b1c2-4521-f24b-ff39ad6c9fc8"
      },
      "execution_count": null,
      "outputs": [
        {
          "output_type": "stream",
          "name": "stdout",
          "text": [
            "[1, 2, 3, 4, 5, 6]\n",
            "[22, 33, 44, 55, 66, 2, 98]\n"
          ]
        }
      ]
    },
    {
      "cell_type": "code",
      "source": [
        "#18)List of tuples with two elements\n",
        "tuple=(1,'anurag'),(2,'bhumika'),(3,'ajay')\n",
        "print(tuple)"
      ],
      "metadata": {
        "colab": {
          "base_uri": "https://localhost:8080/"
        },
        "id": "CUZ0roni78aE",
        "outputId": "0d6424d5-b3ec-41de-f947-503eb62b5e52"
      },
      "execution_count": null,
      "outputs": [
        {
          "output_type": "stream",
          "name": "stdout",
          "text": [
            "((1, 'anurag'), (2, 'bhumika'), (3, 'ajay'))\n"
          ]
        }
      ]
    },
    {
      "cell_type": "code",
      "source": [
        "#20)\n",
        "list=['anurag']\n",
        "list1=['ajay']\n",
        "print(list+list1,end=' ')"
      ],
      "metadata": {
        "colab": {
          "base_uri": "https://localhost:8080/"
        },
        "id": "wOchRWHL8pSa",
        "outputId": "e54e07e6-37d8-4aa2-acbf-4c7e26182186"
      },
      "execution_count": null,
      "outputs": [
        {
          "output_type": "stream",
          "name": "stdout",
          "text": [
            "['anurag', 'ajay'] "
          ]
        }
      ]
    },
    {
      "cell_type": "code",
      "source": [
        "#if-Else conditions\n",
        "#1)statment of if\n",
        "if(codition);\n",
        "  print(\"statement\")\n",
        "else:\n",
        "  print(\"statement\")\n"
      ],
      "metadata": {
        "id": "csT0KeIbCDto"
      },
      "execution_count": null,
      "outputs": []
    },
    {
      "cell_type": "code",
      "source": [
        "#2)if-elif----to apply multipal condaion in singal code\n",
        "num=int(input('enter your number'))\n",
        "if (num>0):\n",
        "  print('number is positive')\n",
        "elif (num<0):\n",
        "  print('number is negative')\n",
        "else:\n",
        "  print('number is zero')\n",
        "\n"
      ],
      "metadata": {
        "colab": {
          "base_uri": "https://localhost:8080/"
        },
        "id": "uqSWW6i5CnvD",
        "outputId": "f6ce3ee3-d8a8-4d58-c543-3f21693b7bfd"
      },
      "execution_count": null,
      "outputs": [
        {
          "output_type": "stream",
          "name": "stdout",
          "text": [
            "enter your number12\n",
            "number is positive\n"
          ]
        }
      ]
    },
    {
      "cell_type": "code",
      "source": [
        "#3)\n",
        "#elif is use for multipale condition in single code"
      ],
      "metadata": {
        "id": "0wqcZLe3D4Ek"
      },
      "execution_count": null,
      "outputs": []
    },
    {
      "cell_type": "code",
      "source": [
        "#4)Check variable between 10 to 20 number\n",
        "num=int(input('enter your number'))\n",
        "if (num>=10 and num<=20):\n",
        "  print('number is in range')\n",
        "else:\n",
        "  print('number is not in range')"
      ],
      "metadata": {
        "colab": {
          "base_uri": "https://localhost:8080/"
        },
        "id": "R9guTUmnEd17",
        "outputId": "3bfb4dfe-b178-4d18-89a9-bfa8393919bc"
      },
      "execution_count": null,
      "outputs": [
        {
          "output_type": "stream",
          "name": "stdout",
          "text": [
            "enter your number20\n",
            "number is in range\n"
          ]
        }
      ]
    },
    {
      "cell_type": "code",
      "source": [
        "#5)\n",
        "#the code directly jump on the else part when if condation false than print else part\n"
      ],
      "metadata": {
        "id": "_OPmDZD1E9Za"
      },
      "execution_count": null,
      "outputs": []
    },
    {
      "cell_type": "code",
      "source": [
        "#6)\n",
        "num=int(input('enter your number'))\n",
        "if (num%2==0 and num%3==0):\n",
        "  print('Divisible by 2 and 3')\n",
        "else:\n",
        "  print('Not Divisible by 2 and 3')\n"
      ],
      "metadata": {
        "colab": {
          "base_uri": "https://localhost:8080/"
        },
        "id": "uuTlrvVIFSVL",
        "outputId": "386cd735-9101-4577-96d1-e8abcaacd572"
      },
      "execution_count": null,
      "outputs": [
        {
          "output_type": "stream",
          "name": "stdout",
          "text": [
            "enter your number6\n",
            "Divisible by 2 and 3\n"
          ]
        }
      ]
    },
    {
      "cell_type": "code",
      "source": [
        "#7)\n",
        "#if the condation of if is true than the code stop executing and do not run else part"
      ],
      "metadata": {
        "id": "D90UhGcdI7Vk"
      },
      "execution_count": null,
      "outputs": []
    },
    {
      "cell_type": "code",
      "source": [
        "#11)\n",
        "num=int(input('enter your number'))\n",
        "if (not( num>10)):\n",
        "  print('number is less than 10')\n",
        "else:\n",
        "  print('number is  greater than 10')\n"
      ],
      "metadata": {
        "colab": {
          "base_uri": "https://localhost:8080/"
        },
        "id": "OdP3l4zlKEta",
        "outputId": "d33147ec-1ddb-4fd9-af64-5129853233ef"
      },
      "execution_count": null,
      "outputs": [
        {
          "output_type": "stream",
          "name": "stdout",
          "text": [
            "enter your number22\n",
            "number is  greater than 10\n"
          ]
        }
      ]
    },
    {
      "cell_type": "code",
      "source": [
        "#12)\n",
        "num=int(input('enter your number'))\n",
        "if (num%2==0):\n",
        "  print('number is even')\n",
        "else:\n",
        "  print('number is odd')"
      ],
      "metadata": {
        "id": "mdG-SZjxNHUz"
      },
      "execution_count": null,
      "outputs": []
    },
    {
      "cell_type": "code",
      "source": [
        "#13\n",
        "\n",
        "list=[1,2,3,4,5,6,7]\n",
        "p = len(list)\n",
        "if(p==0):\n",
        "  print('list is empty')\n",
        "else:\n",
        "  print('list is not empty')"
      ],
      "metadata": {
        "colab": {
          "base_uri": "https://localhost:8080/"
        },
        "id": "8d2pg6vHP0d-",
        "outputId": "4b80a773-8d48-4e3d-af4c-8500b67832c9"
      },
      "execution_count": null,
      "outputs": [
        {
          "output_type": "stream",
          "name": "stdout",
          "text": [
            "list is not empty\n"
          ]
        }
      ]
    },
    {
      "cell_type": "code",
      "source": [
        "#17)\n",
        "\n",
        "num=int(input('enter your number'))\n",
        "if (num%3==0 and num%5==0):\n",
        "  print('Divisible by 3 and 5')\n",
        "else:\n",
        "  print('Not Divisible by 3 and 5')"
      ],
      "metadata": {
        "id": "Ywrj4A7eNgAP"
      },
      "execution_count": null,
      "outputs": []
    },
    {
      "cell_type": "code",
      "source": [
        "#18)\n",
        "x=3\n",
        "if(x>5):\n",
        "  print('x is greater than 5')\n",
        "else:\n",
        "  print('x is  small')"
      ],
      "metadata": {
        "colab": {
          "base_uri": "https://localhost:8080/"
        },
        "id": "yp2K22hvQpng",
        "outputId": "42ad157a-b8d2-4249-fb69-0bf1df0a1232"
      },
      "execution_count": null,
      "outputs": [
        {
          "output_type": "stream",
          "name": "stdout",
          "text": [
            "x is  small\n"
          ]
        }
      ]
    }
  ]
}