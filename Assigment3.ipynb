{
  "nbformat": 4,
  "nbformat_minor": 0,
  "metadata": {
    "colab": {
      "provenance": [],
      "authorship_tag": "ABX9TyOfJvKvThILadNnz1QavSc4",
      "include_colab_link": true
    },
    "kernelspec": {
      "name": "python3",
      "display_name": "Python 3"
    },
    "language_info": {
      "name": "python"
    }
  },
  "cells": [
    {
      "cell_type": "markdown",
      "metadata": {
        "id": "view-in-github",
        "colab_type": "text"
      },
      "source": [
        "<a href=\"https://colab.research.google.com/github/0007anuragsharma/Python-logical/blob/main/Assigment3.ipynb\" target=\"_parent\"><img src=\"https://colab.research.google.com/assets/colab-badge.svg\" alt=\"Open In Colab\"/></a>"
      ]
    },
    {
      "cell_type": "code",
      "execution_count": null,
      "metadata": {
        "id": "YJHthdzYbRJV"
      },
      "outputs": [],
      "source": [
        "#1) #Explain the difference between a list and a tuple in python\n",
        "#ans=   # List: Used when you need a collection of items that might change over time. For example, a list of tasks to be done\n",
        "      #List: Lists have many built-in methods such as .append(), .remove(), .extend(), .pop(), and .sort().\n",
        "\n",
        "      # Tuple: Used when you need a fixed collection of items that should not change. For example, storing coordinates (x, y) or representing a record in a database.\n",
        "     # Tuple: Tuples have fewer methods, mainly .count() and .index(), because their immutability means they don't support modification.\n"
      ]
    },
    {
      "cell_type": "code",
      "source": [
        "#2) what is f-string in python , and how does it differ from using str.format()for string formatting ?\n",
        "\n",
        "\n",
        "\n"
      ],
      "metadata": {
        "id": "tB0xcIUrcf57"
      },
      "execution_count": null,
      "outputs": []
    },
    {
      "cell_type": "code",
      "source": [
        "#3) Describe how slicing works in Python lists. What does list[1:4] do?\n",
        "#ans=   # Slicing in Python lists allows you to extract a subset of elements from a list by specifying a start, stop, and optionally a step. It provides a way to get a new list from an existing list based on the indices you provide.\n",
        "\n",
        "         # list[1:4] extracts a new list starting from index 1 up to, but not including, index 4.\n",
        "\n"
      ],
      "metadata": {
        "id": "mh5h3ta4dylu"
      },
      "execution_count": null,
      "outputs": []
    },
    {
      "cell_type": "code",
      "source": [
        "#4) How does negative indexing work in Python?\n",
        "#ans= Negative indexing in Python provides a way to access elements from the end of a list, string, or other sequence types. It is particularly useful when you want to refer to elements relative to the end of the sequence.\n"
      ],
      "metadata": {
        "id": "ATWy68TDd08R"
      },
      "execution_count": null,
      "outputs": []
    },
    {
      "cell_type": "code",
      "source": [
        "#5) What is the difference between the == operator and the is operator in Python?\n",
        "#ans= use == for checking if two values are equivalent and is for checking if two references point to the same object."
      ],
      "metadata": {
        "id": "54WOvYfsfQmt"
      },
      "execution_count": null,
      "outputs": []
    },
    {
      "cell_type": "code",
      "source": [
        "#6) Given the list numbers = [1, 2, 3, 4, 5], how would you create a new list containing (2, 4) using slicing?\n",
        "#ans=\n",
        "numbers = [1, 2, 3, 4, 5]\n",
        "new_list = numbers[1:2] + numbers[3:4]\n",
        "\n",
        "print(new_list)\n",
        "#Output: [2, 4]\n"
      ],
      "metadata": {
        "id": "M5jxrnrRfmzr"
      },
      "execution_count": null,
      "outputs": []
    },
    {
      "cell_type": "code",
      "source": [
        "#7) With the tuple data = (10, 20, 30, 40), how would you create a new tuple containing all elements except the last one?#\n",
        "#ans=\n",
        "     data = (10, 20, 30, 40)\n",
        "      new_tuple = data[:-1]\n",
        "      print(new_tuple)\n",
        "\n",
        "      Output: (10, 20, 30)"
      ],
      "metadata": {
        "id": "I4RRS2i4iJc8"
      },
      "execution_count": null,
      "outputs": []
    },
    {
      "cell_type": "code",
      "source": [
        "#8) How would you concatenate two lists, list1 = [1, 2] and list2 = [3, 4], and create a new list?\n",
        "#ans=\n",
        "list1 = [1, 2]\n",
        "list2 = [3, 4]\n",
        "\n",
        "# Concatenate the two lists\n",
        "new_list = list1 + list2\n",
        "\n",
        "print(new_list)  # Output: [1, 2, 3, 4]\n"
      ],
      "metadata": {
        "id": "VS4aMDghisxB"
      },
      "execution_count": null,
      "outputs": []
    },
    {
      "cell_type": "code",
      "source": [
        "#9) Write an if-else statement to check if a variable x is greater than 10, less than 10, or equal to 10, and print corresponding messages.\n",
        "#ans=>\n",
        "x = int(input(\"enter your value: \"))\n",
        "\n",
        "if x > 10:\n",
        "    print(\"x is greater than 10\")\n",
        "elif x < 10:\n",
        "    print(\"x is less than 10\")\n",
        "else:\n",
        "    print(\"x is equal to 10\")\n"
      ],
      "metadata": {
        "id": "4n2c1yCTi8dQ"
      },
      "execution_count": null,
      "outputs": []
    },
    {
      "cell_type": "code",
      "source": [
        "#10) Given the string s = \"Hello, World!\", how would you use slicing to extract \"World\"?\n",
        "#ans=\n",
        "s = \"Hello, World!\"\n",
        "substring = s[7:12]\n",
        " print(substring)"
      ],
      "metadata": {
        "id": "TLimPvAgjlBU"
      },
      "execution_count": null,
      "outputs": []
    },
    {
      "cell_type": "code",
      "source": [
        "#11) Using an f-string, how would you print \"The value is 42\" where 42 is stored in a variable named value?\n",
        "#ans=\n",
        "value = 42\n",
        "print(f\"The value is {value}\")\n",
        "Output:\n",
        "The value is 42"
      ],
      "metadata": {
        "id": "VKAOeZk2kDs0"
      },
      "execution_count": null,
      "outputs": []
    },
    {
      "cell_type": "code",
      "source": [
        "#12) Given the tuple fruits = ('apple', 'banana', 'cherry'), how would you check if 'banana' is present in the tuple and print a message?\n",
        "#ans=\n",
        "fruits = ('apple', 'banana', 'cherry')\n",
        "\n",
        "# Check if 'banana' is in the tuple\n",
        "if 'banana' in fruits:\n",
        "    print(\"Banana is present in the tuple.\")\n",
        "else:\n",
        "    print(\"Banana is not present in the tuple.\")\n"
      ],
      "metadata": {
        "id": "e19cxwr6kM-W"
      },
      "execution_count": null,
      "outputs": []
    },
    {
      "cell_type": "code",
      "source": [
        "#13) . With the list data = [10, 20, 30, 40, 50), how would you use slicing to get a new list containing the last three elements?\n",
        "#ans=\n",
        "data = [10, 20, 30, 40, 50]\n",
        "\n",
        "# Slice to get the last three elements\n",
        "last_three_elements = data[-3:]\n",
        "\n",
        "print(last_three_elements)  # Output: [30, 40, 50]\n"
      ],
      "metadata": {
        "id": "psp-GDHQk_f_"
      },
      "execution_count": null,
      "outputs": []
    },
    {
      "cell_type": "code",
      "source": [
        "#14)In what scenario would a tuple be preferred over a list in Python? Provide an example\n",
        "#ans=\n",
        "#Use a tuple when you need fixed, unchangeable data, when performance matters, to keep data consistent, or to return multiple values from a function.\n",
        "# Tuples are simple and fast, and they make sure your data doesn’t change by mistake."
      ],
      "metadata": {
        "id": "MpdaJuWcmFEW"
      },
      "execution_count": null,
      "outputs": []
    },
    {
      "cell_type": "code",
      "source": [
        "#15) Given two lists, list1 = [1, 2, 3] and list2 = [3, 4, 5], how would you create a list containing elements that are in list1 but not in list2?"
      ],
      "metadata": {
        "id": "CrifmzCnmnpH"
      },
      "execution_count": null,
      "outputs": []
    },
    {
      "cell_type": "code",
      "source": [
        "#16)Write an if-else statement to determine if a string text ends with the suffix \".txt\", and print a message based on the result."
      ],
      "metadata": {
        "id": "VdP5EjZBnMfw"
      },
      "execution_count": null,
      "outputs": []
    },
    {
      "cell_type": "code",
      "source": [
        "#17)Given the list values = (5, 10, 15, 20, 25), use slicing to create a new list containing the first three elements.\n",
        "#ans=\n",
        "values = (5, 10, 15, 20, 25)\n",
        "\n",
        "# Slice to get the first three elements\n",
        "first_three_elements = values[:3]\n",
        "\n",
        "print(first_three_elements)  # Output: (5, 10, 15)\n"
      ],
      "metadata": {
        "id": "mAicpupUnSfw"
      },
      "execution_count": null,
      "outputs": []
    },
    {
      "cell_type": "code",
      "source": [
        "#19)Given the list names = ['Alice', 'Bob', 'Charlie'], how would you print the first and last elements of the list?\n",
        "#ans=\n",
        "names = ['Alice', 'Bob', 'Charlie']\n",
        "\n",
        "# Print the first  elements\n",
        "print(names[0])\n",
        "#output=Alice"
      ],
      "metadata": {
        "id": "0FvL9P-josPi"
      },
      "execution_count": null,
      "outputs": []
    },
    {
      "cell_type": "code",
      "source": [
        "#20)Given the string text = \"abcdefgh\", how would you create a new string with every second character?\n",
        "#Ans=\n",
        "text = \"abcdefgh\"\n",
        "\n",
        "# Create a string with every second character\n",
        "string = text[::2]\n",
        "\n",
        "print(string)\n"
      ],
      "metadata": {
        "id": "lkSdI9bBAg-C"
      },
      "execution_count": null,
      "outputs": []
    }
  ]
}