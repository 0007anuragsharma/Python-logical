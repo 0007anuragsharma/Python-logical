{
  "nbformat": 4,
  "nbformat_minor": 0,
  "metadata": {
    "colab": {
      "provenance": [],
      "authorship_tag": "ABX9TyOohZR2pNSHVrEUdUZ0G4Qq",
      "include_colab_link": true
    },
    "kernelspec": {
      "name": "python3",
      "display_name": "Python 3"
    },
    "language_info": {
      "name": "python"
    }
  },
  "cells": [
    {
      "cell_type": "markdown",
      "metadata": {
        "id": "view-in-github",
        "colab_type": "text"
      },
      "source": [
        "<a href=\"https://colab.research.google.com/github/0007anuragsharma/Python-logical/blob/main/nested_loop_and_loops.ipynb\" target=\"_parent\"><img src=\"https://colab.research.google.com/assets/colab-badge.svg\" alt=\"Open In Colab\"/></a>"
      ]
    },
    {
      "cell_type": "code",
      "source": [
        "\n",
        "num = 30\n",
        "factorial = 1\n",
        "while num > 1:\n",
        "    factorial *= num\n",
        "    num=num-1\n",
        "\n",
        "print( factorial)\n"
      ],
      "metadata": {
        "id": "x5ocPZkloYXV",
        "colab": {
          "base_uri": "https://localhost:8080/"
        },
        "outputId": "3a383f42-1a73-4b16-baef-b00616dcd2a1"
      },
      "execution_count": 46,
      "outputs": [
        {
          "output_type": "stream",
          "name": "stdout",
          "text": [
            "265252859812191058636308480000000\n"
          ]
        }
      ]
    },
    {
      "cell_type": "code",
      "source": [
        "num=30\n",
        "x=1\n",
        "fact=0\n",
        "while(x<=30):\n",
        "  if num%x==0:\n",
        "    print(\"factor\",x)\n",
        "    fact+=x\n",
        "  x+=1\n",
        "print(fact)"
      ],
      "metadata": {
        "id": "6ubB-ejlqEyi",
        "colab": {
          "base_uri": "https://localhost:8080/"
        },
        "outputId": "31fbe79e-50d5-456c-a5d8-ad52843c0f01"
      },
      "execution_count": 9,
      "outputs": [
        {
          "output_type": "stream",
          "name": "stdout",
          "text": [
            "factor 1\n",
            "factor 2\n",
            "factor 3\n",
            "factor 5\n",
            "factor 6\n",
            "factor 10\n",
            "factor 15\n",
            "factor 30\n",
            "72\n"
          ]
        }
      ]
    },
    {
      "cell_type": "code",
      "source": [
        "\n",
        "num = 153\n",
        "\n",
        "sum_of_powers = (1**3) + (5**3) + (3**3)\n",
        "if sum_of_powers == num:\n",
        "    print(num, \"is an Armstrong number.\")\n",
        "else:\n",
        "    print(num, \"is not an Armstrong number.\")\n"
      ],
      "metadata": {
        "id": "rhtiNIPfviZu"
      },
      "execution_count": null,
      "outputs": []
    },
    {
      "cell_type": "code",
      "source": [
        "x=2\n",
        "for i in range(2,6):\n",
        "  for j in range(1,11):\n",
        "    print(i*j,end=\" \")\n",
        "  print()\n"
      ],
      "metadata": {
        "colab": {
          "base_uri": "https://localhost:8080/"
        },
        "id": "L8k2u5vV2QEY",
        "outputId": "1e96634d-a6f5-4453-b6db-fc8de6cdcb4f"
      },
      "execution_count": 30,
      "outputs": [
        {
          "output_type": "stream",
          "name": "stdout",
          "text": [
            "2 4 6 8 10 12 14 16 18 20 \n",
            "3 6 9 12 15 18 21 24 27 30 \n",
            "4 8 12 16 20 24 28 32 36 40 \n",
            "5 10 15 20 25 30 35 40 45 50 \n"
          ]
        }
      ]
    },
    {
      "cell_type": "code",
      "source": [
        "x=5\n",
        "fact=1\n",
        "for i in range(1,x+1):\n",
        "  fact=fact*i\n",
        "  print(fact)\n",
        "\n"
      ],
      "metadata": {
        "colab": {
          "base_uri": "https://localhost:8080/"
        },
        "id": "aRrcMn0N2cb6",
        "outputId": "82feea3d-b6c3-4ff9-e796-284465650803"
      },
      "execution_count": 31,
      "outputs": [
        {
          "output_type": "stream",
          "name": "stdout",
          "text": [
            "1\n",
            "2\n",
            "6\n",
            "24\n",
            "120\n"
          ]
        }
      ]
    },
    {
      "cell_type": "code",
      "source": [
        "for x in range(2,10):\n",
        "  for i in range(1,x+1):\n",
        "    if(x%i==0):\n",
        "      print('factor',i)\n",
        ""
      ],
      "metadata": {
        "colab": {
          "base_uri": "https://localhost:8080/"
        },
        "id": "zQkIcjz545kt",
        "outputId": "35e8b9bc-2586-4207-9e03-10820c35c0e2"
      },
      "execution_count": 36,
      "outputs": [
        {
          "output_type": "stream",
          "name": "stdout",
          "text": [
            "factor 1\n",
            "factor 2\n",
            "factor 1\n",
            "factor 3\n",
            "factor 1\n",
            "factor 2\n",
            "factor 4\n",
            "factor 1\n",
            "factor 5\n",
            "factor 1\n",
            "factor 2\n",
            "factor 3\n",
            "factor 6\n",
            "factor 1\n",
            "factor 7\n",
            "factor 1\n",
            "factor 2\n",
            "factor 4\n",
            "factor 8\n",
            "factor 1\n",
            "factor 3\n",
            "factor 9\n"
          ]
        }
      ]
    },
    {
      "cell_type": "code",
      "source": [
        "total=0\n",
        "rem=0\n",
        "for i in range(100,401):\n",
        "  rem=i%10\n",
        "\n"
      ],
      "metadata": {
        "colab": {
          "base_uri": "https://localhost:8080/"
        },
        "id": "t2ibLEMK5977",
        "outputId": "09140b4c-316d-45b9-dec8-dca6fd8f0555"
      },
      "execution_count": 37,
      "outputs": [
        {
          "output_type": "stream",
          "name": "stdout",
          "text": [
            "Armstrong numbers from 100 to 400 are: [153, 370, 371]\n"
          ]
        }
      ]
    },
    {
      "cell_type": "code",
      "source": [
        "for i in range(1,5):\n",
        "  for j in range(1,5):\n",
        "    if i==1 or i==4 or j==1 or j==4:\n",
        "      print(\"*\",end='')\n",
        "    else:\n",
        "        print(' ',end='')\n",
        "\n",
        "  print()\n",
        ""
      ],
      "metadata": {
        "colab": {
          "base_uri": "https://localhost:8080/"
        },
        "id": "DV9oRl7J6t0R",
        "outputId": "01033297-3584-47fd-f57b-baf71363f162"
      },
      "execution_count": 45,
      "outputs": [
        {
          "output_type": "stream",
          "name": "stdout",
          "text": [
            "****\n",
            "*  *\n",
            "*  *\n",
            "****\n"
          ]
        }
      ]
    },
    {
      "cell_type": "code",
      "source": [],
      "metadata": {
        "id": "3ZtiTpd9-ZIP"
      },
      "execution_count": null,
      "outputs": []
    }
  ]
}