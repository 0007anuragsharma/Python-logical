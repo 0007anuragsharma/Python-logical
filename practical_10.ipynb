{
  "nbformat": 4,
  "nbformat_minor": 0,
  "metadata": {
    "colab": {
      "provenance": [],
      "authorship_tag": "ABX9TyPOvsbeDJrmqgCUq1j/Q8Qg",
      "include_colab_link": true
    },
    "kernelspec": {
      "name": "python3",
      "display_name": "Python 3"
    },
    "language_info": {
      "name": "python"
    }
  },
  "cells": [
    {
      "cell_type": "markdown",
      "metadata": {
        "id": "view-in-github",
        "colab_type": "text"
      },
      "source": [
        "<a href=\"https://colab.research.google.com/github/0007anuragsharma/Python-logical/blob/main/practical_10.ipynb\" target=\"_parent\"><img src=\"https://colab.research.google.com/assets/colab-badge.svg\" alt=\"Open In Colab\"/></a>"
      ]
    },
    {
      "cell_type": "code",
      "execution_count": 4,
      "metadata": {
        "colab": {
          "base_uri": "https://localhost:8080/"
        },
        "id": "MjT-KhjGDi7E",
        "outputId": "d54a9afd-6fed-4a7e-c261-a42657e3f7f7"
      },
      "outputs": [
        {
          "output_type": "execute_result",
          "data": {
            "text/plain": [
              "dict_keys(['name', 'job'])"
            ]
          },
          "metadata": {},
          "execution_count": 4
        }
      ],
      "source": [
        "#Dictionary(mapping data type)\n",
        "my_dictionary1={'name':'anurag','job':'Trainer'}\n",
        "#key:value\n",
        "\n",
        "#key is always unique\n",
        "\n",
        "#key can only contain mutable data type like string,integer,float,bool,tuple\n",
        "\n",
        "#dictionaries are mutable(can be changed after)\n",
        "\n",
        "my_dictionary2={'number':1233475774,'name':'ajay'}\n",
        "\n",
        "my_dictionary3={True:'positive',False:'negative'}\n",
        "\n",
        "my_dictionary4={('anurag','ajay'):21,('renu','anjali'):22}\n",
        "\n",
        "#Bulit-in methods of dictionary\n",
        "\n",
        "my_dictionary1.keys()\n",
        "\n",
        "\n",
        "\n"
      ]
    },
    {
      "cell_type": "code",
      "source": [
        "my_dictionary1.values()"
      ],
      "metadata": {
        "colab": {
          "base_uri": "https://localhost:8080/"
        },
        "id": "Pk0DXYt5JIAc",
        "outputId": "1cb4f47f-8653-4c41-ae1d-8d2b207a99d9"
      },
      "execution_count": 5,
      "outputs": [
        {
          "output_type": "execute_result",
          "data": {
            "text/plain": [
              "dict_values(['anurag', 'Trainer'])"
            ]
          },
          "metadata": {},
          "execution_count": 5
        }
      ]
    },
    {
      "cell_type": "code",
      "source": [
        "my_dictionary1.items()"
      ],
      "metadata": {
        "colab": {
          "base_uri": "https://localhost:8080/"
        },
        "id": "0SaAAu5vJMo2",
        "outputId": "01b431a9-d704-41ee-fffd-6475e910283a"
      },
      "execution_count": 6,
      "outputs": [
        {
          "output_type": "execute_result",
          "data": {
            "text/plain": [
              "dict_items([('name', 'anurag'), ('job', 'Trainer')])"
            ]
          },
          "metadata": {},
          "execution_count": 6
        }
      ]
    },
    {
      "cell_type": "code",
      "source": [
        "#accessing values thruogh keys\n",
        "\n",
        "my_dictionary1['job']\n"
      ],
      "metadata": {
        "colab": {
          "base_uri": "https://localhost:8080/",
          "height": 35
        },
        "id": "ekjZNCG0JPlh",
        "outputId": "1b8c4a5d-4a36-49d8-e526-8a5e07100b7f"
      },
      "execution_count": 7,
      "outputs": [
        {
          "output_type": "execute_result",
          "data": {
            "text/plain": [
              "'Trainer'"
            ],
            "application/vnd.google.colaboratory.intrinsic+json": {
              "type": "string"
            }
          },
          "metadata": {},
          "execution_count": 7
        }
      ]
    },
    {
      "cell_type": "code",
      "source": [
        "my_dictionary1.get('name')"
      ],
      "metadata": {
        "colab": {
          "base_uri": "https://localhost:8080/",
          "height": 35
        },
        "id": "YhDvBLtLJYpc",
        "outputId": "40cba1c1-ba4e-465d-9fd2-e5b578f1a733"
      },
      "execution_count": 10,
      "outputs": [
        {
          "output_type": "execute_result",
          "data": {
            "text/plain": [
              "'anurag'"
            ],
            "application/vnd.google.colaboratory.intrinsic+json": {
              "type": "string"
            }
          },
          "metadata": {},
          "execution_count": 10
        }
      ]
    },
    {
      "cell_type": "code",
      "source": [
        "#modifying values or adding values\n",
        "\n",
        "my_dictionary1['name']='nanu'\n",
        "my_dictionary1['name']\n",
        "\n",
        "my_dictionary1['location']='jaipur'\n",
        "print(my_dictionary1)"
      ],
      "metadata": {
        "colab": {
          "base_uri": "https://localhost:8080/"
        },
        "id": "NUn1PqhEJ32f",
        "outputId": "9ae8e0b4-13a2-4db1-c8ec-c5db8e306e6c"
      },
      "execution_count": 13,
      "outputs": [
        {
          "output_type": "stream",
          "name": "stdout",
          "text": [
            "{'name': 'nanu', 'job': 'Trainer', 'location': 'jaipur'}\n"
          ]
        }
      ]
    },
    {
      "cell_type": "code",
      "source": [
        "del my_dictionary1['name']\n",
        "\n"
      ],
      "metadata": {
        "id": "BuNA7mP5LL1M"
      },
      "execution_count": 15,
      "outputs": []
    },
    {
      "cell_type": "code",
      "source": [
        "my_dictionary1"
      ],
      "metadata": {
        "colab": {
          "base_uri": "https://localhost:8080/"
        },
        "id": "R2CBMFlPMFij",
        "outputId": "72fcd2d5-c670-4a12-9cde-08c360c552f3"
      },
      "execution_count": 16,
      "outputs": [
        {
          "output_type": "execute_result",
          "data": {
            "text/plain": [
              "{'job': 'Trainer', 'location': 'jaipur'}"
            ]
          },
          "metadata": {},
          "execution_count": 16
        }
      ]
    },
    {
      "cell_type": "code",
      "source": [
        " my_dictionary1.pop('job')"
      ],
      "metadata": {
        "id": "zPo8lF9xMQ6Y"
      },
      "execution_count": null,
      "outputs": []
    },
    {
      "cell_type": "code",
      "source": [
        "print(my_dictionary1)"
      ],
      "metadata": {
        "colab": {
          "base_uri": "https://localhost:8080/"
        },
        "id": "CFjJdmi8MUfm",
        "outputId": "f325135b-b074-4a24-fa71-03bbbc89967a"
      },
      "execution_count": 18,
      "outputs": [
        {
          "output_type": "stream",
          "name": "stdout",
          "text": [
            "{'location': 'jaipur'}\n"
          ]
        }
      ]
    },
    {
      "cell_type": "code",
      "source": [
        "my_dictionary4={'name':'ajay','number':12345677887,'location':'jaipur'}\n",
        "my_dictionary4['location']\n",
        "my_dictionary4.get('name')\n",
        "my_dictionary4['name']='aj'\n",
        "my_dictionary4['location']='delhi'\n",
        "print(my_dictionary4)\n",
        "del my_dictionary4['name']\n",
        "my_dictionary4.pop('number')\n",
        "print(my_dictionary4)\n",
        "\n",
        "my_dictionary4['addres']='jaipur'\n",
        "print(my_dictionary4)"
      ],
      "metadata": {
        "colab": {
          "base_uri": "https://localhost:8080/"
        },
        "id": "kKHE6aBHNAc2",
        "outputId": "0303fa92-594d-44e7-e208-d8ed5f2fc45b"
      },
      "execution_count": 29,
      "outputs": [
        {
          "output_type": "stream",
          "name": "stdout",
          "text": [
            "{'name': 'aj', 'number': 12345677887, 'location': 'delhi'}\n",
            "{'location': 'delhi'}\n",
            "{'location': 'delhi', 'addres': 'jaipur'}\n"
          ]
        }
      ]
    },
    {
      "cell_type": "code",
      "source": [
        "my_dictionary5={True:'positive',1:'+ value',False:'negative',0:'-value'}\n",
        "print(my_dictionary5[False])\n"
      ],
      "metadata": {
        "colab": {
          "base_uri": "https://localhost:8080/"
        },
        "id": "j1tiyN7OPimq",
        "outputId": "15710a16-c7fa-41ef-f22e-1c8dced21715"
      },
      "execution_count": 31,
      "outputs": [
        {
          "output_type": "stream",
          "name": "stdout",
          "text": [
            "-value\n"
          ]
        }
      ]
    }
  ]
}