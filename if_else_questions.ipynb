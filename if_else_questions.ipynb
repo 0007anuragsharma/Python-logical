{
  "nbformat": 4,
  "nbformat_minor": 0,
  "metadata": {
    "colab": {
      "provenance": [],
      "authorship_tag": "ABX9TyN3bvxGmAJqpNnRGdGFg7du",
      "include_colab_link": true
    },
    "kernelspec": {
      "name": "python3",
      "display_name": "Python 3"
    },
    "language_info": {
      "name": "python"
    }
  },
  "cells": [
    {
      "cell_type": "markdown",
      "metadata": {
        "id": "view-in-github",
        "colab_type": "text"
      },
      "source": [
        "<a href=\"https://colab.research.google.com/github/0007anuragsharma/Python-logical/blob/main/if_else_questions.ipynb\" target=\"_parent\"><img src=\"https://colab.research.google.com/assets/colab-badge.svg\" alt=\"Open In Colab\"/></a>"
      ]
    },
    {
      "cell_type": "code",
      "execution_count": null,
      "metadata": {
        "colab": {
          "base_uri": "https://localhost:8080/"
        },
        "id": "x5jTyOtJG9uM",
        "outputId": "f14ad5ae-af0e-436d-c084-07e88fb97650"
      },
      "outputs": [
        {
          "output_type": "stream",
          "name": "stdout",
          "text": [
            "enter the number :12\n",
            "This number is even\n"
          ]
        }
      ],
      "source": [
        "# Q1 Write a program that takes an integer input from the user and checks whether the number is odd or even.\n",
        "n=int(input(\"enter the number :\"))\n",
        "if n%2==0:\n",
        "  print(\"This number is even\")\n",
        "else:\n",
        "  print(\"This number is not even\")\n",
        "\n"
      ]
    },
    {
      "cell_type": "code",
      "source": [
        "# Q2 Write a program that takes three numbers as input and prints the largest of the three.\n",
        "a=int(input())\n",
        "b=int(input())\n",
        "c=int(input())\n",
        "if a>b and a>c:\n",
        "  print(\"a is largest\")\n",
        "elif b>a and b>c:\n",
        "  print(\"b is largest\")\n",
        "else:\n",
        "  print(\"c is largest\")\n",
        "\n",
        "\n",
        "\n"
      ],
      "metadata": {
        "colab": {
          "base_uri": "https://localhost:8080/"
        },
        "id": "GGlEwaQWMpbT",
        "outputId": "c284d714-c224-4347-951e-795abfe1a90a"
      },
      "execution_count": null,
      "outputs": [
        {
          "output_type": "stream",
          "name": "stdout",
          "text": [
            "66\n",
            "88\n",
            "22\n",
            "b is largest\n"
          ]
        }
      ]
    },
    {
      "cell_type": "code",
      "source": [
        "# Q3 Write a program to check if a given year is a leap year. A leap year is divisible by 4 but not by 100\n",
        "# unless it is also divisible by 400.\n",
        "\n",
        "year = int(input(\"Enter a year: \"))\n",
        "if year % 4 == 0:\n",
        "    if year % 100 != 0 or year % 400 == 0:\n",
        "        print(year, \"is a leap year.\")\n",
        "    else:\n",
        "        print(year, \"is not a leap year.\")\n",
        "\n",
        "\n",
        "\n",
        "\n",
        "\n"
      ],
      "metadata": {
        "colab": {
          "base_uri": "https://localhost:8080/"
        },
        "id": "AJBJ2zuwNfyh",
        "outputId": "19cd06e0-f49f-48de-f309-9e6916ba6295"
      },
      "execution_count": null,
      "outputs": [
        {
          "output_type": "stream",
          "name": "stdout",
          "text": [
            "Enter a year: 2004\n",
            "2004 is a leap year.\n"
          ]
        }
      ]
    },
    {
      "cell_type": "code",
      "source": [
        "# Q4 Write a program that takes a percentage (integer) as input and prints the corresponding grade based\n",
        "# on the following criteria:\n",
        "# >= 90: Grade A\n",
        "# >= 80: Grade B\n",
        "# >= 70: Grade C\n",
        "# >= 60: Grade D\n",
        "# < 60: Grade F\n",
        "\n",
        "number=int(input(\"enter the number :\"))\n",
        "if number>=90:\n",
        "  print('Grade A')\n",
        "elif number>=80:\n",
        "  print('Grade B')\n",
        "elif number>=70:\n",
        "  print('Grade C')\n",
        "elif number>=60:\n",
        "  print('Grade D')\n",
        "else:\n",
        "  print(\"Grade F\")\n",
        "\n"
      ],
      "metadata": {
        "colab": {
          "base_uri": "https://localhost:8080/"
        },
        "id": "P3MzwG52OV7X",
        "outputId": "50a7e949-d3d1-438e-cc72-efd59e223922"
      },
      "execution_count": null,
      "outputs": [
        {
          "output_type": "stream",
          "name": "stdout",
          "text": [
            "enter the number :99\n",
            "Grade A\n"
          ]
        }
      ]
    },
    {
      "cell_type": "code",
      "source": [
        "# Q5 Write a program that checks if a given letter is a vowel (a, e, i, o, u) or a consonant.\n",
        "letter=input()\n",
        "if letter in 'aeiouAEIOU':\n",
        "  print(\"your letter is vowel\")\n",
        "else:\n",
        "  print(\"your letter is conconant\")\n"
      ],
      "metadata": {
        "colab": {
          "base_uri": "https://localhost:8080/"
        },
        "id": "AgtgoGQQQQMu",
        "outputId": "81854008-cfce-41bd-f6e9-138af218fd19"
      },
      "execution_count": null,
      "outputs": [
        {
          "output_type": "stream",
          "name": "stdout",
          "text": [
            "u\n",
            "your letter is vowel\n"
          ]
        }
      ]
    },
    {
      "cell_type": "code",
      "source": [
        "# Q6 Write a basic calculator program that takes two numbers and an operator (+, -, *, /) as input and\n",
        "# performs the specified operation. Print the result based on the operation.\n",
        "\n",
        "# Taking inputs for the numbers and operator\n",
        "num1 = float(input(\"Enter the first number: \"))\n",
        "num2 = float(input(\"Enter the second number: \"))\n",
        "operator = input(\"Enter operator: \")\n",
        "if operator == '+':\n",
        "    result = num1 + num2\n",
        "    print(\"The result is:\", result)\n",
        "elif operator == '-':\n",
        "    result = num1 - num2\n",
        "    print(\"The result is:\", result)\n",
        "elif operator == '*':\n",
        "    result = num1 * num2\n",
        "    print(\"The result is:\", result)\n",
        "elif operator == '/':\n",
        "    if num2 != 0:\n",
        "        result = num1 / num2\n",
        "        print(\"The result is:\", result)\n",
        "    else:\n",
        "        print(\"Error: Division by zero is not allowed.\")\n"
      ],
      "metadata": {
        "id": "jB2w9u5cWM21"
      },
      "execution_count": null,
      "outputs": []
    },
    {
      "cell_type": "code",
      "source": [
        "# Q7 Write a program that takes a number as input and checks whether it is positive, negative, or zero.\n",
        "n=int(input(\"enter the number :\"))\n",
        "\n",
        "if n > 0 :\n",
        "  print(\"number is positive \")\n",
        "elif n< 0:\n",
        "  print(\"number is negative \")\n",
        "else:\n",
        "  print(\"number is zero\")"
      ],
      "metadata": {
        "colab": {
          "base_uri": "https://localhost:8080/"
        },
        "id": "4_2xTTPUYOf1",
        "outputId": "457b06e5-6d91-4fa2-9d28-a2dd73914d11"
      },
      "execution_count": null,
      "outputs": [
        {
          "output_type": "stream",
          "name": "stdout",
          "text": [
            "enter the number :1\n",
            "number is positive \n"
          ]
        }
      ]
    },
    {
      "cell_type": "code",
      "source": [
        "# Q8 Write a program that checks if a username and password entered by the user match the pre-set values\n",
        "# username = \"admin\" and password = \"1234\". If both match, print \"Login Successful\", otherwise print\n",
        "# \"Login Failed\".\n",
        "\n",
        "\n",
        "username=input(\"enter the user name :\")\n",
        "password=input('enter the password :')\n",
        "if username==\"admin\" and password =='1234':\n",
        "  print(\"login successful\")\n",
        "else:\n",
        "  print('login failed ')\n"
      ],
      "metadata": {
        "colab": {
          "base_uri": "https://localhost:8080/"
        },
        "id": "xpR6C0PPkrTb",
        "outputId": "cfd8c373-511d-45e8-d696-4a01e23181ee"
      },
      "execution_count": null,
      "outputs": [
        {
          "output_type": "stream",
          "name": "stdout",
          "text": [
            "enter the user name :admin\n",
            "enter the password :1234\n",
            "login successful\n"
          ]
        }
      ]
    },
    {
      "cell_type": "code",
      "source": [
        "# Q9 Write a program that takes three sides of a triangle as input and checks if those sides form a valid\n",
        "# triangle. A triangle is valid if the sum of any two sides is greater than the third side.\n",
        "# Check conditions like a + b > c, b + c > a, and a + c > b.\n",
        "\n",
        "\n",
        "\n",
        "\n",
        "\n",
        "\n",
        "\n"
      ],
      "metadata": {
        "id": "PO0eSgawlzt7"
      },
      "execution_count": 4,
      "outputs": []
    },
    {
      "cell_type": "code",
      "source": [
        "# Q10 Write a program that calculates the Body Mass Index (BMI) based on user input for weight (in\n",
        "# kilograms) and height (in meters). Then categorize the BMI into:\n",
        "# Underweight (BMI < 18.5)\n",
        "# Normal weight (18.5 <= BMI < 24.9)\n",
        "# Overweight (25 <= BMI < 29.9)\n",
        "# Obesity (BMI >= 30)\n",
        "weight = float(input(\"Enter your weight in kilograms: \"))\n",
        "height = float(input(\"Enter your height in meters: \"))\n",
        "\n",
        "bmi = weight / (height ** 2)\n",
        "\n",
        "if bmi < 18.5:\n",
        "    print(\"You are underweight.\")\n",
        "elif bmi < 24.9:\n",
        "    print(\"You have normal weight.\")\n",
        "elif bmi < 29.9:\n",
        "    print(\"You are overweight.\")\n",
        "else:\n",
        "    print(\"You are obese.\")\n",
        "\n",
        "\n"
      ],
      "metadata": {
        "colab": {
          "base_uri": "https://localhost:8080/"
        },
        "id": "w_BmMY0Im17A",
        "outputId": "e2b96108-ce19-4993-bfcd-cd56e119756e"
      },
      "execution_count": null,
      "outputs": [
        {
          "output_type": "stream",
          "name": "stdout",
          "text": [
            "Enter your weight in kilograms: 82\n",
            "Enter your height in meters: 170\n",
            "You are underweight.\n"
          ]
        }
      ]
    },
    {
      "cell_type": "code",
      "source": [
        "# Q11 Write a program that calculates the discount for a product based on its price:\n",
        "# If price is greater than 1000, discount is 10%\n",
        "# If price is between 500 and 1000, discount is 5%\n",
        "# Otherwise, no discount\n",
        "# Print the final price after applying the discount.\n",
        "\n",
        "price =float(input(\"enter the price of product :\"))\n",
        "\n",
        "\n",
        "if price > 1000:\n",
        "    discount = price * 0.10\n",
        "if price >= 500 and price <= 1000:\n",
        "    discount = price * 0.05\n",
        "if price < 500:\n",
        "    discount = 0\n",
        "discounted_price = price - discount\n",
        "print(\"Final price after discount:\", discounted_price)\n",
        "\n"
      ],
      "metadata": {
        "colab": {
          "base_uri": "https://localhost:8080/"
        },
        "id": "NfQ5We-SqKVD",
        "outputId": "eb11a561-f9f2-421d-c8b2-56ae70ed1156"
      },
      "execution_count": null,
      "outputs": [
        {
          "output_type": "stream",
          "name": "stdout",
          "text": [
            "enter the price of product :533.33\n",
            "Final price after discount: 506.66350000000006\n"
          ]
        }
      ]
    },
    {
      "cell_type": "code",
      "source": [
        "# Q12 Write a program that takes the name of a month as input and prints the number of days in that\n",
        "# month. Consider leap years for February.\n",
        "# Input the name of the month\n",
        "month = input(\"Enter the name of the month: \")\n",
        "year = int(input(\"Enter the year: \"))\n",
        "\n",
        "is_leap_year = (year % 4 == 0 and year % 100 != 0) or (year % 400 == 0)\n",
        "\n",
        "if month == \"January\" or month == \"March\" or month == \"May\" or month == \"July\" or month == \"August\" or month == \"October\" or month == \"December\":\n",
        "    days = 31\n",
        "if month == \"April\" or month == \"June\" or month == \"September\" or month == \"November\":\n",
        "    days = 30\n",
        "if month == \"February\":\n",
        "    if is_leap_year:\n",
        "        days = 29\n",
        "    else:\n",
        "        days = 28\n",
        "\n",
        "print(\"Number of days in\", month, days)\n",
        "\n",
        "\n",
        "\n",
        "\n",
        "\n",
        "\n"
      ],
      "metadata": {
        "colab": {
          "base_uri": "https://localhost:8080/"
        },
        "id": "9x3GCHkTsTf2",
        "outputId": "88e26874-2ea8-4ecd-f286-48a0715615f1"
      },
      "execution_count": null,
      "outputs": [
        {
          "output_type": "stream",
          "name": "stdout",
          "text": [
            "Enter the name of the month: July\n",
            "Enter the year: 2000\n",
            "Number of days in July 31\n"
          ]
        }
      ]
    },
    {
      "cell_type": "code",
      "source": [
        "# Q13 Write a program that simulates a simple ATM. The user should be able to:\n",
        "# Check balance\n",
        "# Deposit money\n",
        "# Withdraw money (ensure the balance doesn't go negative) Use an if-else structure to handle the user's choices.\n",
        "\n",
        "\n",
        "\n",
        "\n"
      ],
      "metadata": {
        "id": "40vOqWjKtWHK"
      },
      "execution_count": null,
      "outputs": []
    },
    {
      "cell_type": "code",
      "source": [
        "# Q14 Write a program that categorizes a given age into different groups:\n",
        "# Infant (0-1 year)\n",
        "# Toddler (2-4 years)\n",
        "# Child (5-12 years)\n",
        "# Teenager (13-19 years)\n",
        "age = int(input(\"Enter the age: \"))\n",
        "\n",
        "if age >= 0 and age <= 1:\n",
        "    print(\" Infant.\")\n",
        "elif age >= 2 and age <= 4:\n",
        "    print(\"Toddler.\")\n",
        "elif age >= 5 and age <= 12:\n",
        "    print(\"Child.\")\n",
        "elif age >= 13 and age <= 19:\n",
        "    print(\"Teenager.\")\n",
        "else:\n",
        "    print(\"The age doesn't fit into any of the defined categories.\")\n",
        "\n",
        "\n",
        "\n",
        "\n",
        "\n",
        "\n"
      ],
      "metadata": {
        "colab": {
          "base_uri": "https://localhost:8080/"
        },
        "id": "FkhnERSLuhhQ",
        "outputId": "ba3a92f9-561e-48ca-9ad8-8984d2527b00"
      },
      "execution_count": 1,
      "outputs": [
        {
          "output_type": "stream",
          "name": "stdout",
          "text": [
            "Enter the age: 90\n",
            "The age doesn't fit into any of the defined categories.\n"
          ]
        }
      ]
    },
    {
      "cell_type": "code",
      "source": [
        "# Q15 Write a program that takes an integer (1-7) as input and prints the corresponding day of the week (1\n",
        "# for Monday, 2 for Tuesday, etc.).\n",
        "\n",
        "day = int(input(\"Enter a number 1-7: \"))\n",
        "\n",
        "if day == 1:\n",
        "    print(\"Monday\")\n",
        "elif day == 2:\n",
        "    print(\"Tuesday\")\n",
        "elif day == 3:\n",
        "    print(\"Wednesday\")\n",
        "elif day == 4:\n",
        "    print(\"Thursday\")\n",
        "elif day == 5:\n",
        "    print(\"Friday\")\n",
        "elif day == 6:\n",
        "    print(\"Saturday\")\n",
        "elif day == 7:\n",
        "    print(\"Sunday\")\n",
        "else:\n",
        "    print(\"Invalid input. Please enter a number between 1 and 7.\")\n",
        "\n"
      ],
      "metadata": {
        "colab": {
          "base_uri": "https://localhost:8080/"
        },
        "id": "NYI5LNSiu8vt",
        "outputId": "1fcabb05-9fa9-4915-8485-8f8e33856172"
      },
      "execution_count": 3,
      "outputs": [
        {
          "output_type": "stream",
          "name": "stdout",
          "text": [
            "Enter a number 1-7: 4\n",
            "Thursday\n"
          ]
        }
      ]
    },
    {
      "cell_type": "code",
      "source": [],
      "metadata": {
        "id": "Rw4-OTYjxZW8"
      },
      "execution_count": null,
      "outputs": []
    }
  ]
}