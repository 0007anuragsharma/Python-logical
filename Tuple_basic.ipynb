{
  "nbformat": 4,
  "nbformat_minor": 0,
  "metadata": {
    "colab": {
      "provenance": [],
      "authorship_tag": "ABX9TyOg8b2nSJmbg4IEjSGiN1U3",
      "include_colab_link": true
    },
    "kernelspec": {
      "name": "python3",
      "display_name": "Python 3"
    },
    "language_info": {
      "name": "python"
    }
  },
  "cells": [
    {
      "cell_type": "markdown",
      "metadata": {
        "id": "view-in-github",
        "colab_type": "text"
      },
      "source": [
        "<a href=\"https://colab.research.google.com/github/0007anuragsharma/Python-logical/blob/main/Tuple_basic.ipynb\" target=\"_parent\"><img src=\"https://colab.research.google.com/assets/colab-badge.svg\" alt=\"Open In Colab\"/></a>"
      ]
    },
    {
      "cell_type": "code",
      "execution_count": 1,
      "metadata": {
        "colab": {
          "base_uri": "https://localhost:8080/"
        },
        "id": "gG9DfcM-Ph3U",
        "outputId": "a332cfba-70a6-43bb-dca4-ecdae24470ad"
      },
      "outputs": [
        {
          "output_type": "stream",
          "name": "stdout",
          "text": [
            "('sam', 45, 'raj', 12.89)\n"
          ]
        }
      ],
      "source": [
        "# Tuple in python\n",
        "\n",
        "# indentification=()\n",
        "# immutable data type==> we cannot cahnge and update\n",
        "# indexing start from 0 and leanth start from 1\n",
        "\n",
        "\n",
        "a=(\"sam\",45,\"raj\",12.89)\n",
        "print(a)\n",
        "\n"
      ]
    },
    {
      "cell_type": "code",
      "source": [
        "type(a)"
      ],
      "metadata": {
        "colab": {
          "base_uri": "https://localhost:8080/"
        },
        "id": "Al7KEBGZQ80B",
        "outputId": "b0e6f0fe-b2be-4472-f4b7-a26b142261a5"
      },
      "execution_count": 2,
      "outputs": [
        {
          "output_type": "execute_result",
          "data": {
            "text/plain": [
              "tuple"
            ]
          },
          "metadata": {},
          "execution_count": 2
        }
      ]
    },
    {
      "cell_type": "code",
      "source": [
        "print(a[0])\n",
        "print(a[1])"
      ],
      "metadata": {
        "colab": {
          "base_uri": "https://localhost:8080/"
        },
        "id": "LRMfm3y0RgEa",
        "outputId": "6ac5a2e3-7518-47dd-ee28-3b9631e613ef"
      },
      "execution_count": 3,
      "outputs": [
        {
          "output_type": "stream",
          "name": "stdout",
          "text": [
            "sam\n",
            "45\n"
          ]
        }
      ]
    },
    {
      "cell_type": "code",
      "source": [
        "# loop in tuples\n",
        "\n",
        "a=(\"sam\",45,\"raj\",12.89)\n",
        "\n",
        "for i in a:\n",
        "  print(i)"
      ],
      "metadata": {
        "colab": {
          "base_uri": "https://localhost:8080/"
        },
        "id": "x4JxozaPRlFC",
        "outputId": "e353fabf-d36b-4786-9f49-44174165b417"
      },
      "execution_count": 4,
      "outputs": [
        {
          "output_type": "stream",
          "name": "stdout",
          "text": [
            "sam\n",
            "45\n",
            "raj\n",
            "12.89\n"
          ]
        }
      ]
    },
    {
      "cell_type": "code",
      "source": [
        "for i in range(len(a)):\n",
        "  print(a[i])"
      ],
      "metadata": {
        "colab": {
          "base_uri": "https://localhost:8080/"
        },
        "id": "3HlC0el7R5Uq",
        "outputId": "3acffc41-c3f0-41a8-b58e-981a24fdd4fb"
      },
      "execution_count": 6,
      "outputs": [
        {
          "output_type": "stream",
          "name": "stdout",
          "text": [
            "sam\n",
            "45\n",
            "raj\n",
            "12.89\n"
          ]
        }
      ]
    },
    {
      "cell_type": "code",
      "source": [
        "# concatenation\n",
        "a=(1,2,3)\n",
        "b=(4,5,6)\n",
        "c=a+b\n",
        "c"
      ],
      "metadata": {
        "colab": {
          "base_uri": "https://localhost:8080/"
        },
        "id": "JudjYNNER-sm",
        "outputId": "523390c1-af3a-4b2a-9d8a-bcd2e35a1424"
      },
      "execution_count": 8,
      "outputs": [
        {
          "output_type": "execute_result",
          "data": {
            "text/plain": [
              "(1, 2, 3, 4, 5, 6)"
            ]
          },
          "metadata": {},
          "execution_count": 8
        }
      ]
    },
    {
      "cell_type": "code",
      "source": [
        "# replication\n",
        "a=(1,2,3)*3\n",
        "a"
      ],
      "metadata": {
        "colab": {
          "base_uri": "https://localhost:8080/"
        },
        "id": "Gusic9vmSM3y",
        "outputId": "47024577-9349-4c5a-d306-bceb54df0709"
      },
      "execution_count": 10,
      "outputs": [
        {
          "output_type": "execute_result",
          "data": {
            "text/plain": [
              "(1, 2, 3, 1, 2, 3, 1, 2, 3)"
            ]
          },
          "metadata": {},
          "execution_count": 10
        }
      ]
    },
    {
      "cell_type": "code",
      "source": [
        "# funcation in tuple\n",
        "# (1) len()\n",
        "a=(\"sam\",45,\"raj\",12.89)\n",
        "len(a)"
      ],
      "metadata": {
        "colab": {
          "base_uri": "https://localhost:8080/"
        },
        "id": "_Ax_gh1YUm7L",
        "outputId": "67a6ebb1-aeb6-4a28-eae6-be6a7365f552"
      },
      "execution_count": 11,
      "outputs": [
        {
          "output_type": "execute_result",
          "data": {
            "text/plain": [
              "4"
            ]
          },
          "metadata": {},
          "execution_count": 11
        }
      ]
    },
    {
      "cell_type": "code",
      "source": [
        "# index\n",
        "a=(\"sam\",45,\"raj\",12.89)\n",
        "a.index(45)"
      ],
      "metadata": {
        "colab": {
          "base_uri": "https://localhost:8080/"
        },
        "id": "ir5B2-MXUx4L",
        "outputId": "612e197f-689d-49df-90c4-427e4ac24b1d"
      },
      "execution_count": 12,
      "outputs": [
        {
          "output_type": "execute_result",
          "data": {
            "text/plain": [
              "1"
            ]
          },
          "metadata": {},
          "execution_count": 12
        }
      ]
    },
    {
      "cell_type": "code",
      "source": [
        "# count\n",
        "a=(1,2,2,2,3,4,4,4)\n",
        "a.count(4)"
      ],
      "metadata": {
        "colab": {
          "base_uri": "https://localhost:8080/"
        },
        "id": "jUWwNVcyVAvT",
        "outputId": "7b1cf565-fd1f-42eb-dda2-246f762bb7b8"
      },
      "execution_count": 13,
      "outputs": [
        {
          "output_type": "execute_result",
          "data": {
            "text/plain": [
              "3"
            ]
          },
          "metadata": {},
          "execution_count": 13
        }
      ]
    },
    {
      "cell_type": "code",
      "source": [
        "a=(\"sam\",45,\"raj\",12.89)\n",
        "# a[1]=567"
      ],
      "metadata": {
        "id": "tQGkxsT_VICW"
      },
      "execution_count": 15,
      "outputs": []
    },
    {
      "cell_type": "code",
      "source": [
        "b=list(a)\n",
        "b"
      ],
      "metadata": {
        "colab": {
          "base_uri": "https://localhost:8080/"
        },
        "id": "PrRedjLBVMid",
        "outputId": "010e1e5b-5f6a-422a-8e8e-66a31bef95c3"
      },
      "execution_count": 16,
      "outputs": [
        {
          "output_type": "execute_result",
          "data": {
            "text/plain": [
              "['sam', 45, 'raj', 12.89]"
            ]
          },
          "metadata": {},
          "execution_count": 16
        }
      ]
    },
    {
      "cell_type": "code",
      "source": [
        "b[1]=567\n",
        "print(b)"
      ],
      "metadata": {
        "colab": {
          "base_uri": "https://localhost:8080/"
        },
        "id": "l8wC4kq-Vc2E",
        "outputId": "fa0b96aa-1171-485d-fb5b-8c4b34750957"
      },
      "execution_count": 18,
      "outputs": [
        {
          "output_type": "stream",
          "name": "stdout",
          "text": [
            "['sam', 567, 'raj', 12.89]\n"
          ]
        }
      ]
    },
    {
      "cell_type": "code",
      "source": [
        "c=tuple(b)\n",
        "print(c)"
      ],
      "metadata": {
        "colab": {
          "base_uri": "https://localhost:8080/"
        },
        "id": "NCjO9IpCVfki",
        "outputId": "484ae3d7-e744-44da-8ba7-a5a5f92e8bb3"
      },
      "execution_count": 19,
      "outputs": [
        {
          "output_type": "stream",
          "name": "stdout",
          "text": [
            "('sam', 567, 'raj', 12.89)\n"
          ]
        }
      ]
    },
    {
      "cell_type": "code",
      "source": [
        "# How can we create a user defined tuple ?"
      ],
      "metadata": {
        "id": "gSXUjgYwVlT-"
      },
      "execution_count": null,
      "outputs": []
    },
    {
      "cell_type": "code",
      "source": [
        "a=[]\n",
        "size=int(input(\"enter the size :\"))\n",
        "for i in range(size):\n",
        "  val=input(\"enter item :\")\n",
        "  a.append(val)\n",
        "b=tuple(a)\n",
        "b"
      ],
      "metadata": {
        "colab": {
          "base_uri": "https://localhost:8080/"
        },
        "id": "durpcSO4WXdX",
        "outputId": "15a0d0f1-1bb5-4942-8231-95a8b6e49002"
      },
      "execution_count": 20,
      "outputs": [
        {
          "name": "stdout",
          "output_type": "stream",
          "text": [
            "enter the size :4\n",
            "enter item :12\n",
            "enter item :egg\n",
            "enter item :apple\n",
            "enter item :cat\n"
          ]
        },
        {
          "output_type": "execute_result",
          "data": {
            "text/plain": [
              "('12', 'egg', 'apple', 'cat')"
            ]
          },
          "metadata": {},
          "execution_count": 20
        }
      ]
    },
    {
      "cell_type": "code",
      "source": [],
      "metadata": {
        "id": "q26-lo0CWwBf"
      },
      "execution_count": null,
      "outputs": []
    }
  ]
}