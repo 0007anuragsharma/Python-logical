{
  "nbformat": 4,
  "nbformat_minor": 0,
  "metadata": {
    "colab": {
      "provenance": [],
      "authorship_tag": "ABX9TyOTsr0YEOWHYzLjwWYqDq6/",
      "include_colab_link": true
    },
    "kernelspec": {
      "name": "python3",
      "display_name": "Python 3"
    },
    "language_info": {
      "name": "python"
    }
  },
  "cells": [
    {
      "cell_type": "markdown",
      "metadata": {
        "id": "view-in-github",
        "colab_type": "text"
      },
      "source": [
        "<a href=\"https://colab.research.google.com/github/0007anuragsharma/Python-logical/blob/main/practical_11.ipynb\" target=\"_parent\"><img src=\"https://colab.research.google.com/assets/colab-badge.svg\" alt=\"Open In Colab\"/></a>"
      ]
    },
    {
      "cell_type": "code",
      "execution_count": null,
      "metadata": {
        "colab": {
          "base_uri": "https://localhost:8080/"
        },
        "id": "qZG4Cd2LIoP9",
        "outputId": "77c17f7c-9899-4e39-dcd5-321288790bd0"
      },
      "outputs": [
        {
          "output_type": "stream",
          "name": "stdout",
          "text": [
            "{1, 2, 3, 4, 5}\n",
            "{1, 2, 3, 4, 5}\n"
          ]
        }
      ],
      "source": [
        "#set and frozenset\n",
        "\n",
        "my_set={1,2,3,4,5}\n",
        "\n",
        "my_set2=set([1,2,2,2,2,3,4,5])\n",
        "\n",
        "# {}, set()\n",
        "\n",
        "print(my_set)\n",
        "print(my_set2)\n",
        "\n"
      ]
    },
    {
      "cell_type": "code",
      "source": [
        "#[] # set can be formed using { } or set constructor\n",
        "   # set is unordered (we cannot access its elements using the index)\n",
        "   #set does not allow duplicate values\n",
        "   #set is mutable(we can add, modify or remove elements )\n",
        "\n",
        "\n",
        "   #set methods\n",
        "\n",
        "my_set3={4,3,2,5,6,7,8,9}\n",
        "\n",
        "\n",
        "my_set2.add(6)\n",
        "print(my_set2)\n",
        "\n",
        "my_set2.update(my_set3)\n",
        "print(my_set2)\n",
        "\n",
        "my_set2.update([11,22,33])\n",
        "print(my_set2)\n",
        "\n",
        "\n"
      ],
      "metadata": {
        "colab": {
          "base_uri": "https://localhost:8080/"
        },
        "id": "F4Gkha1pNkAD",
        "outputId": "82727db5-0b31-4912-e950-3c677205c852"
      },
      "execution_count": null,
      "outputs": [
        {
          "output_type": "stream",
          "name": "stdout",
          "text": [
            "{1, 2, 3, 4, 5, 6, 7, 8, 9}\n",
            "{1, 2, 3, 4, 5, 6, 7, 8, 9}\n",
            "{1, 2, 3, 4, 5, 6, 7, 8, 9, 33, 11, 22}\n"
          ]
        }
      ]
    },
    {
      "cell_type": "code",
      "source": [
        "#Delete\n",
        "\n",
        "#remove ----will remove the element passed as argument\n",
        "            #will throw error if the element is not found\n",
        "\n",
        "#discard--------will remove the element passed as argument\n",
        "                #will not throw error if the element is not found\n",
        "\n",
        "\n",
        "#pop-----------will remove a random/arbitrary elemnt\n",
        "\n",
        "\n",
        "my_set3.remove(4)\n",
        "print(my_set3)\n",
        "\n",
        "\n",
        "#my_set.remove(10)\n",
        "#this will show error\n",
        "\n",
        "\n"
      ],
      "metadata": {
        "colab": {
          "base_uri": "https://localhost:8080/"
        },
        "id": "ZO0xHhuZQwgk",
        "outputId": "426a85d0-4eb3-49a4-d79a-ce62b44f943a"
      },
      "execution_count": null,
      "outputs": [
        {
          "output_type": "stream",
          "name": "stdout",
          "text": [
            "{2, 3, 5, 6, 7, 8, 9}\n"
          ]
        }
      ]
    },
    {
      "cell_type": "code",
      "source": [
        "my_set3.discard(11)\n",
        "\n",
        "my_set3"
      ],
      "metadata": {
        "colab": {
          "base_uri": "https://localhost:8080/"
        },
        "id": "h38OshHVS2wr",
        "outputId": "4024babb-7479-4eef-e975-1d5838cee1f8"
      },
      "execution_count": null,
      "outputs": [
        {
          "output_type": "execute_result",
          "data": {
            "text/plain": [
              "{2, 3, 5, 6, 7, 8, 9}"
            ]
          },
          "metadata": {},
          "execution_count": 9
        }
      ]
    },
    {
      "cell_type": "code",
      "source": [
        "my_set3.pop()"
      ],
      "metadata": {
        "colab": {
          "base_uri": "https://localhost:8080/"
        },
        "id": "Aqal_Bm3TBgC",
        "outputId": "c78868b6-26ee-4519-ac33-d01f823990ae"
      },
      "execution_count": null,
      "outputs": [
        {
          "output_type": "execute_result",
          "data": {
            "text/plain": [
              "2"
            ]
          },
          "metadata": {},
          "execution_count": 10
        }
      ]
    },
    {
      "cell_type": "code",
      "source": [
        "my_set3.pop()"
      ],
      "metadata": {
        "colab": {
          "base_uri": "https://localhost:8080/"
        },
        "id": "Cn2W0gfiTGkQ",
        "outputId": "c485be47-ea75-4285-a0da-6076cd3b18ed"
      },
      "execution_count": null,
      "outputs": [
        {
          "output_type": "execute_result",
          "data": {
            "text/plain": [
              "3"
            ]
          },
          "metadata": {},
          "execution_count": 11
        }
      ]
    },
    {
      "cell_type": "code",
      "source": [
        "my_set5={'apply','banana','cherry'}\n",
        "my_set6={'google','microsoft','apple'}\n",
        "\n",
        "my_set5.add('orange')\n",
        "print(my_set5)\n",
        "\n",
        "my_set5.update(my_set6)\n",
        "print(my_set5)\n"
      ],
      "metadata": {
        "colab": {
          "base_uri": "https://localhost:8080/"
        },
        "id": "vavSJ15gTi4q",
        "outputId": "715304f2-bf1a-46fa-a8d7-ad6b6fa430fb"
      },
      "execution_count": null,
      "outputs": [
        {
          "output_type": "stream",
          "name": "stdout",
          "text": [
            "{'apply', 'cherry', 'banana', 'orange'}\n",
            "{'google', 'banana', 'orange', 'apply', 'microsoft', 'cherry', 'apple'}\n"
          ]
        }
      ]
    },
    {
      "cell_type": "code",
      "source": [
        "print(my_set6)"
      ],
      "metadata": {
        "colab": {
          "base_uri": "https://localhost:8080/"
        },
        "id": "jshO9dhYUGrO",
        "outputId": "b583349a-d894-445e-9534-a0b4276ec3d2"
      },
      "execution_count": null,
      "outputs": [
        {
          "output_type": "stream",
          "name": "stdout",
          "text": [
            "{'google', 'microsoft', 'apple'}\n"
          ]
        }
      ]
    },
    {
      "cell_type": "code",
      "source": [
        "my_set5.remove('apple')\n",
        "print(my_set5)"
      ],
      "metadata": {
        "colab": {
          "base_uri": "https://localhost:8080/"
        },
        "id": "8AQqPka_ULXb",
        "outputId": "d52f27f6-4e7b-46d6-9025-bfe7b1801e6f"
      },
      "execution_count": null,
      "outputs": [
        {
          "output_type": "stream",
          "name": "stdout",
          "text": [
            "{'google', 'banana', 'orange', 'apply', 'microsoft', 'cherry'}\n"
          ]
        }
      ]
    },
    {
      "cell_type": "code",
      "source": [
        "my_set5.pop()"
      ],
      "metadata": {
        "colab": {
          "base_uri": "https://localhost:8080/",
          "height": 35
        },
        "id": "SsH9-GRSVRIh",
        "outputId": "81029818-2c0d-4ec4-f584-f1013e7751d1"
      },
      "execution_count": null,
      "outputs": [
        {
          "output_type": "execute_result",
          "data": {
            "text/plain": [
              "'google'"
            ],
            "application/vnd.google.colaboratory.intrinsic+json": {
              "type": "string"
            }
          },
          "metadata": {},
          "execution_count": 17
        }
      ]
    },
    {
      "cell_type": "code",
      "source": [
        "my_set5.pop()"
      ],
      "metadata": {
        "colab": {
          "base_uri": "https://localhost:8080/",
          "height": 35
        },
        "id": "6VFtIJunVdJg",
        "outputId": "063eadda-ca8f-472a-c8d8-562b8bdbe1a8"
      },
      "execution_count": null,
      "outputs": [
        {
          "output_type": "execute_result",
          "data": {
            "text/plain": [
              "'banana'"
            ],
            "application/vnd.google.colaboratory.intrinsic+json": {
              "type": "string"
            }
          },
          "metadata": {},
          "execution_count": 18
        }
      ]
    },
    {
      "cell_type": "code",
      "source": [
        "my_set5.pop()"
      ],
      "metadata": {
        "colab": {
          "base_uri": "https://localhost:8080/",
          "height": 35
        },
        "id": "31Vn3UyyVi1u",
        "outputId": "6018306d-b06c-4a2e-dbcd-d93a3fa09aa2"
      },
      "execution_count": null,
      "outputs": [
        {
          "output_type": "execute_result",
          "data": {
            "text/plain": [
              "'orange'"
            ],
            "application/vnd.google.colaboratory.intrinsic+json": {
              "type": "string"
            }
          },
          "metadata": {},
          "execution_count": 19
        }
      ]
    },
    {
      "cell_type": "code",
      "source": [
        "#Set operations\n",
        "\n",
        "set1={1,2,3}\n",
        "set2={3,4,5}\n",
        "\n",
        "#union\n",
        "set1 | set2\n",
        "\n",
        "#interesction\n",
        "set1 & set2\n",
        "\n",
        "#difference\n",
        "set1 - set2\n",
        "\n",
        "#symmetic difference\n",
        "set1 ^ set2\n",
        "\n",
        "\n",
        "\n",
        "set1.union(set2)\n",
        "\n",
        "set1.intersection(set2)\n",
        "\n",
        "set1.difference(set2)\n",
        "\n",
        "set1.symmetric_difference(set2)"
      ],
      "metadata": {
        "colab": {
          "base_uri": "https://localhost:8080/"
        },
        "id": "HPxCeizyW7B5",
        "outputId": "f7fd6d05-5501-4a02-edb4-927e379a0106"
      },
      "execution_count": null,
      "outputs": [
        {
          "output_type": "execute_result",
          "data": {
            "text/plain": [
              "{1, 2, 4, 5}"
            ]
          },
          "metadata": {},
          "execution_count": 24
        }
      ]
    },
    {
      "cell_type": "code",
      "source": [
        "my_set5={'apple','banana','cherry'}\n",
        "my_set6={'google','microsoft','apple'}\n",
        "my_set7={'zoo','animal','apple'}\n",
        "\n",
        "my_set5 | my_set6 | my_set7\n",
        "my_set5 & my_set6 & my_set7\n",
        "my_set7 - my_set5 - my_set6\n",
        "my_set5 ^ my_set6 ^ my_set7"
      ],
      "metadata": {
        "colab": {
          "base_uri": "https://localhost:8080/"
        },
        "id": "DTz0EI4GZjeJ",
        "outputId": "1af1b2d2-8946-4c18-baab-83d6a8cb2233"
      },
      "execution_count": null,
      "outputs": [
        {
          "output_type": "execute_result",
          "data": {
            "text/plain": [
              "{'animal', 'apple', 'banana', 'cherry', 'google', 'microsoft', 'zoo'}"
            ]
          },
          "metadata": {},
          "execution_count": 34
        }
      ]
    },
    {
      "cell_type": "code",
      "source": [
        "#disc=(set[1,2,3,4,5]:'kk') show error"
      ],
      "metadata": {
        "id": "gpmGVY7TdHWL"
      },
      "execution_count": null,
      "outputs": []
    },
    {
      "cell_type": "code",
      "source": [
        "disc1={frozenset([1,2,3,4,5,6]):'kk'}"
      ],
      "metadata": {
        "id": "ATrh6GD8dQUj"
      },
      "execution_count": null,
      "outputs": []
    },
    {
      "cell_type": "code",
      "source": [],
      "metadata": {
        "id": "pjhvCfUJeBFq"
      },
      "execution_count": null,
      "outputs": []
    }
  ]
}