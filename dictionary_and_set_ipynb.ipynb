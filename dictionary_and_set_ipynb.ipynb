{
  "nbformat": 4,
  "nbformat_minor": 0,
  "metadata": {
    "colab": {
      "provenance": [],
      "authorship_tag": "ABX9TyPBiqytVTCDdrx4MV+j64hq",
      "include_colab_link": true
    },
    "kernelspec": {
      "name": "python3",
      "display_name": "Python 3"
    },
    "language_info": {
      "name": "python"
    }
  },
  "cells": [
    {
      "cell_type": "markdown",
      "metadata": {
        "id": "view-in-github",
        "colab_type": "text"
      },
      "source": [
        "<a href=\"https://colab.research.google.com/github/0007anuragsharma/Python-logical/blob/main/dictionary_and_set_ipynb.ipynb\" target=\"_parent\"><img src=\"https://colab.research.google.com/assets/colab-badge.svg\" alt=\"Open In Colab\"/></a>"
      ]
    },
    {
      "cell_type": "code",
      "execution_count": 8,
      "metadata": {
        "colab": {
          "base_uri": "https://localhost:8080/"
        },
        "id": "8WXtt6JPiHH3",
        "outputId": "469be784-4c9a-4ce2-9f7e-ea0e700e09b2"
      },
      "outputs": [
        {
          "output_type": "stream",
          "name": "stdout",
          "text": [
            "{10: 'ajay sharma', 20: 'ajay'}\n"
          ]
        }
      ],
      "source": [
        "#Dictionary\n",
        "# key and valur pairs\n",
        "# hashmap\n",
        "\n",
        "# key unique\n",
        "# value can be unique or not\n",
        "# ordered\n",
        "# no index\n",
        "# mutuable in nature {}\n",
        "my_dictionary={10:\"anurag\",20:\"ajay\",}\n",
        "len(my_dictionary)\n",
        "my_dictionary.keys()\n",
        "my_dictionary.values()\n",
        "my_dictionary.items()\n",
        "\n",
        "\n",
        "\n",
        "my_dictionary[10]='ajay sharma'\n",
        "print(my_dictionary)"
      ]
    },
    {
      "cell_type": "code",
      "source": [
        "my_dictionary={10:\"anurag\",20:\"ajay\",}\n",
        "\n",
        "my_dictionary[40]='hey'\n",
        "\n",
        "x=my_dictionary.pop(40)\n",
        "print(x)"
      ],
      "metadata": {
        "colab": {
          "base_uri": "https://localhost:8080/"
        },
        "id": "eHYXWDxwi4b5",
        "outputId": "352d1efc-3fc1-4271-a339-1a92480cbfc3"
      },
      "execution_count": 12,
      "outputs": [
        {
          "output_type": "stream",
          "name": "stdout",
          "text": [
            "hey\n"
          ]
        }
      ]
    },
    {
      "cell_type": "markdown",
      "source": [],
      "metadata": {
        "id": "EL0XTGxpkOWA"
      }
    },
    {
      "cell_type": "code",
      "source": [
        "my_dictionary={10:\"anurag\",20:\"ajay\",}\n",
        "del my_dictionary[20]\n",
        "\n",
        "print(my_dictionary)"
      ],
      "metadata": {
        "colab": {
          "base_uri": "https://localhost:8080/"
        },
        "id": "TskuGchUk0t7",
        "outputId": "35f07f8d-d3a7-4a7d-d5fe-cc47a60afab3"
      },
      "execution_count": 15,
      "outputs": [
        {
          "output_type": "stream",
          "name": "stdout",
          "text": [
            "{10: 'anurag'}\n"
          ]
        }
      ]
    },
    {
      "cell_type": "code",
      "source": [
        "my_dictionary={10:\"anurag\",20:\"ajay\",}\n",
        "my_dictionary.update({13:'aj'})\n",
        "print(my_dictionary)"
      ],
      "metadata": {
        "colab": {
          "base_uri": "https://localhost:8080/"
        },
        "id": "7gnoA6gZkNh8",
        "outputId": "18592b59-45c1-4ac6-b96b-b9f760e5eac6"
      },
      "execution_count": 19,
      "outputs": [
        {
          "output_type": "stream",
          "name": "stdout",
          "text": [
            "{10: 'anurag', 20: 'ajay', 13: 'aj'}\n"
          ]
        }
      ]
    },
    {
      "cell_type": "code",
      "source": [
        "my_dictionary={10:\"anurag\",20:\"ajay\",}\n",
        "\n",
        "for  key in my_dictionary:\n",
        "  print(key,my_dictionary[key])"
      ],
      "metadata": {
        "colab": {
          "base_uri": "https://localhost:8080/"
        },
        "id": "1uzw8udSleQJ",
        "outputId": "223a2d0d-49e3-4a96-ae86-d7cc54d62465"
      },
      "execution_count": 22,
      "outputs": [
        {
          "output_type": "stream",
          "name": "stdout",
          "text": [
            "10 anurag\n",
            "20 ajay\n"
          ]
        }
      ]
    },
    {
      "cell_type": "code",
      "source": [
        "my_dictionary={'x':10}\n",
        "my_dictionary['x']=my_dictionary[\"x\"]+2\n",
        "print(my_dictionary)"
      ],
      "metadata": {
        "colab": {
          "base_uri": "https://localhost:8080/"
        },
        "id": "hKYfIR8rm_Vz",
        "outputId": "881b49bd-aae3-45a2-c95c-4de664731edc"
      },
      "execution_count": 24,
      "outputs": [
        {
          "output_type": "stream",
          "name": "stdout",
          "text": [
            "{'x': 12}\n"
          ]
        }
      ]
    },
    {
      "cell_type": "code",
      "source": [
        "# loop=10,18\n",
        "# mydictionary{'total':0}\n",
        "\n",
        "mydictionary={'total':0}\n",
        "\n",
        "for i in range(10,19):\n",
        "  mydictionary[\"total\"]=mydictionary[\"total\"]+1\n",
        "print(mydictionary)\n",
        "\n"
      ],
      "metadata": {
        "colab": {
          "base_uri": "https://localhost:8080/"
        },
        "id": "6myfoug9n903",
        "outputId": "ca716316-be77-4391-aea1-69c43df54566"
      },
      "execution_count": 29,
      "outputs": [
        {
          "output_type": "stream",
          "name": "stdout",
          "text": [
            "{'total': 9}\n"
          ]
        }
      ]
    },
    {
      "cell_type": "code",
      "source": [
        "#\"heyuser\"\n",
        "count=0\n",
        "dic={\"count\":0}\n",
        "for i in \"heysuer\":\n",
        "  count=co\n",
        "count\n",
        "\n",
        "\n"
      ],
      "metadata": {
        "colab": {
          "base_uri": "https://localhost:8080/"
        },
        "id": "ffxzXDado3OB",
        "outputId": "7406c37e-e43f-4cd3-9cdf-f5cf18f9fce3"
      },
      "execution_count": 33,
      "outputs": [
        {
          "output_type": "execute_result",
          "data": {
            "text/plain": [
              "7"
            ]
          },
          "metadata": {},
          "execution_count": 33
        }
      ]
    },
    {
      "cell_type": "code",
      "source": [
        "for x in \"heyuser\":\n",
        "  mydictionary[x]=1\n",
        "print(mydictionary)"
      ],
      "metadata": {
        "colab": {
          "base_uri": "https://localhost:8080/"
        },
        "id": "2KZr_aThp9BR",
        "outputId": "7112e8c1-1edc-4c63-88e2-adef6d5d5c7e"
      },
      "execution_count": 35,
      "outputs": [
        {
          "output_type": "stream",
          "name": "stdout",
          "text": [
            "{'total': 9, 'h': 1, 'e': 1, 'y': 1, 'u': 1, 's': 1, 'r': 1}\n"
          ]
        }
      ]
    },
    {
      "cell_type": "code",
      "source": [
        "string=\"heyuser\"\n",
        "dics={}\n",
        "\n",
        "for i in string:\n",
        "  if i not in dics:\n",
        "    dics[i]=1\n",
        "  else:\n",
        "    dics[i]=dics[i]+1\n",
        "dics"
      ],
      "metadata": {
        "colab": {
          "base_uri": "https://localhost:8080/"
        },
        "id": "MbejpM6trNN0",
        "outputId": "ba83efbc-6487-4791-88a5-5d42e8813598"
      },
      "execution_count": 38,
      "outputs": [
        {
          "output_type": "execute_result",
          "data": {
            "text/plain": [
              "{'h': 1, 'e': 2, 'y': 1, 'u': 1, 's': 1, 'r': 1}"
            ]
          },
          "metadata": {},
          "execution_count": 38
        }
      ]
    },
    {
      "cell_type": "code",
      "source": [
        "dictionary={'yes':0,\"no\":0}\n",
        "\n",
        "\n",
        "for i in range(1,51):\n",
        "  if i%2 == 0 and i%7 == 0:\n",
        "    dictionary['yes']=dictionary['yes']+1\n",
        "  else:\n",
        "    dictionary['no']=dictionary['no']+1\n",
        "\n",
        "print(dictionary)"
      ],
      "metadata": {
        "colab": {
          "base_uri": "https://localhost:8080/"
        },
        "id": "fFlOOCJztMZT",
        "outputId": "19fd5ef5-7b11-48f4-e2c9-0dd86db88636"
      },
      "execution_count": 42,
      "outputs": [
        {
          "output_type": "stream",
          "name": "stdout",
          "text": [
            "{'yes': 3, 'no': 47}\n"
          ]
        }
      ]
    },
    {
      "cell_type": "code",
      "source": [
        "string=\"hey hello tushar aei\"\n",
        "dics={\"vowel\":0,\"conso\":0}\n",
        "for i in string:\n",
        "  if i in 'aeiouAEIOU':\n",
        "    dics['vowel']=dics['vowel']+1\n",
        "  else:\n",
        "    dics['conso']=dics['conso']+1\n",
        "print(dics)"
      ],
      "metadata": {
        "colab": {
          "base_uri": "https://localhost:8080/"
        },
        "id": "t7EwCTPjuPr5",
        "outputId": "ee29d9f9-52f1-45c5-a1ae-28546aab5329"
      },
      "execution_count": 47,
      "outputs": [
        {
          "output_type": "stream",
          "name": "stdout",
          "text": [
            "{'vowel': 8, 'conso': 12}\n"
          ]
        }
      ]
    },
    {
      "cell_type": "code",
      "source": [
        "x='hey juj hey htg hey hello hello hello'.split(\" \")\n",
        "dicts=[]\n",
        "for i in x:\n",
        "  if i not in dicts:\n",
        "\n"
      ],
      "metadata": {
        "id": "KR-MO2tbxA5O"
      },
      "execution_count": null,
      "outputs": []
    },
    {
      "cell_type": "code",
      "source": [
        "# set\n",
        "# collection of element\n",
        "# unique\n",
        "# unoredered\n",
        "# no index\n",
        "# mutuable but set ekement are immutable\n",
        "\n",
        "myset={10,20,30,10,10,20,40}\n",
        "print(myset)\n",
        "\n",
        "myset.add(658)\n",
        "print(myset)\n",
        "\n",
        "\n",
        "# for delete we use remove and discard\n",
        "\n",
        "# funcation of set\n",
        "# update\n",
        "# union\n",
        "# intersection\n",
        "# issuperset\n",
        "# difference\n",
        "# symmetric_difference_update"
      ],
      "metadata": {
        "colab": {
          "base_uri": "https://localhost:8080/"
        },
        "id": "uOHpIRhW0HwK",
        "outputId": "1550a5ca-72d6-42ac-d00a-c60c4a312ae4"
      },
      "execution_count": 50,
      "outputs": [
        {
          "output_type": "stream",
          "name": "stdout",
          "text": [
            "{40, 10, 20, 30}\n",
            "{40, 10, 658, 20, 30}\n"
          ]
        }
      ]
    },
    {
      "cell_type": "code",
      "source": [],
      "metadata": {
        "id": "OFm67Jsz0j0t"
      },
      "execution_count": null,
      "outputs": []
    }
  ]
}