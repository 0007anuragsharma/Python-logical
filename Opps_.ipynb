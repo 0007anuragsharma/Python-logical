{
  "nbformat": 4,
  "nbformat_minor": 0,
  "metadata": {
    "colab": {
      "provenance": [],
      "authorship_tag": "ABX9TyN3eQGjuasuslypIV6sCm6Y",
      "include_colab_link": true
    },
    "kernelspec": {
      "name": "python3",
      "display_name": "Python 3"
    },
    "language_info": {
      "name": "python"
    }
  },
  "cells": [
    {
      "cell_type": "markdown",
      "metadata": {
        "id": "view-in-github",
        "colab_type": "text"
      },
      "source": [
        "<a href=\"https://colab.research.google.com/github/0007anuragsharma/Python-logical/blob/main/Opps_.ipynb\" target=\"_parent\"><img src=\"https://colab.research.google.com/assets/colab-badge.svg\" alt=\"Open In Colab\"/></a>"
      ]
    },
    {
      "cell_type": "code",
      "execution_count": null,
      "metadata": {
        "id": "hE0Vat36-ysc"
      },
      "outputs": [],
      "source": [
        "# Class methods-- A class method is a method that operats of the class its self. reather than and instantce of the class\n",
        "# is it define using the @ class methods decorater and takes class referance as its firt parameter\n",
        "\n",
        "# features of class methods----\n",
        "# 1--operats on the class rather than instance spacific data\n",
        "# 2--- we can modifiy the class state using cls referance\n",
        "# 3--- we can called on both the class and its object\n",
        "# 4---"
      ]
    },
    {
      "cell_type": "code",
      "source": [
        "class Employee:\n",
        "  company_name = \"Tech Solutions\"\n",
        "\n",
        "\n",
        "  def __init__(self, name, salary):\n",
        "    self.name = name\n",
        "    self.salary = salary\n",
        "\n",
        "  @classmethod\n",
        "  def change_company_name(cls, new_name):\n",
        "    cls.company_name = new_name\n",
        "\n",
        "#Usage\n",
        "emp1 = Employee(\"Anurag\", 50000)\n",
        "emp2 = Employee(\"Ajay\", 60000)\n",
        "\n",
        "print(emp1.company_name)\n",
        "\n",
        "# change the class AYYRIBUTE USING CLASS METHODS\n",
        "Employee.change_company_name(\"TCS\")\n",
        "print(Employee.company_name)"
      ],
      "metadata": {
        "colab": {
          "base_uri": "https://localhost:8080/"
        },
        "id": "CtSr4t5oAdjH",
        "outputId": "44e113ec-18a6-4d2f-8660-be157efb8d3b"
      },
      "execution_count": 2,
      "outputs": [
        {
          "output_type": "stream",
          "name": "stdout",
          "text": [
            "Tech Solutions\n",
            "TCS\n"
          ]
        }
      ]
    },
    {
      "cell_type": "code",
      "source": [
        "# 2--Static Method\n",
        "# 1---A static method is a method that does not operate on either the class or the instance. it behaves like a regular funcation but a define in the class for logical groupingit is mark\n",
        "# with the @ Static method decorator.\n",
        "\n",
        "# Features of Static Method--\n",
        "# 1 it does not require self or class as parametar\n",
        "#2--It can't modify class and instance attributes\n",
        "#3--it is useful for utility or helper methods that do not relate class or isinstance."
      ],
      "metadata": {
        "id": "DKSyxFOoBFgA"
      },
      "execution_count": null,
      "outputs": []
    },
    {
      "cell_type": "code",
      "source": [
        "class MathOperations:\n",
        "  @staticmethod\n",
        "  def add(a, b):\n",
        "    return a + b\n",
        "\n",
        "  @staticmethod\n",
        "  def subtract(a, b):\n",
        "    return a - b\n",
        "\n",
        "\n",
        "#usage\n",
        "print(MathOperations.add(5, 3))\n",
        "print(MathOperations.subtract(5, 3))"
      ],
      "metadata": {
        "colab": {
          "base_uri": "https://localhost:8080/"
        },
        "id": "RbC4iVgBDKUP",
        "outputId": "95f91cb1-18d6-43f4-ae2f-0956acffbd57"
      },
      "execution_count": 4,
      "outputs": [
        {
          "output_type": "stream",
          "name": "stdout",
          "text": [
            "8\n",
            "2\n"
          ]
        }
      ]
    },
    {
      "cell_type": "code",
      "source": [
        "#3--Super Method\n",
        "#1--Super method is used to call a method from the parent class in the contect of the inheritance it allow us to avoide explicity,reffering to the parent class and makes the code more maintainable\n",
        "\n",
        "# Feathures\n",
        "# 1--it can acces parents class methods or attributes\n",
        "# 2--it is useful in multiple and multilevel inharetance\n",
        "# 3-- it help in avoding code repertation\n"
      ],
      "metadata": {
        "id": "mtnNJvmuDYho"
      },
      "execution_count": null,
      "outputs": []
    },
    {
      "cell_type": "code",
      "source": [
        "class Parent:\n",
        "  def __init__(self, name):\n",
        "    self.name = name\n",
        "\n",
        "  def greet(self):\n",
        "    print(f\"Hello, I am {self.name}From the parent class.\")\n",
        "\n",
        "class Child(Parent):\n",
        "  def __init__(self, name, age):\n",
        "    super().__init__(name)\n",
        "    self.age = age\n",
        "\n",
        "  def greet(self):\n",
        "    super().greet()\n",
        "    print(f\"I am {self.age}year old from the child class\")\n",
        "\n",
        "#usage\n",
        "child=Child(\"Anurag\",24)\n",
        "child.greet()"
      ],
      "metadata": {
        "colab": {
          "base_uri": "https://localhost:8080/"
        },
        "id": "P1NFgeKUFEWi",
        "outputId": "bad3f577-a427-4f5b-db45-c0938c2f7af8"
      },
      "execution_count": 7,
      "outputs": [
        {
          "output_type": "stream",
          "name": "stdout",
          "text": [
            "Hello, I am AnuragFrom the parent class.\n",
            "I am 24year old from the child class\n"
          ]
        }
      ]
    },
    {
      "cell_type": "code",
      "source": [
        "# Q==\n",
        "# design a class higerarchy for an online education platfrom\n",
        "# course class(general course details like name and duration)\n",
        "# instructor class(instructor who teach course)\n",
        "# LiveCourse class(inherits both Course and instructor to combine live teaching)\n",
        "# Requirements:\n",
        "# Course should have methods like show_course_details()\n",
        "# instructor should have methods like show_instructor_details()\n",
        "# LiveCourse should combine and display course and instructor details\n",
        "\n",
        "class Course:\n",
        "  course_name=\"data science\"\n",
        "  course_duration = \"10 months\"\n",
        "  def show_course_details(self):\n",
        "    print(f\"course name is {self.course_name} and duration is {self.course_duration}\")\n",
        "\n",
        "class Instructor:\n",
        "  instructor_name=\"sam\"\n",
        "  def display_instructor_details(self):\n",
        "    print(f\"instructor name is {self.instructor_name}\")\n",
        "\n",
        "class CourseDetails(Course,Instructor):\n",
        "  def show_course_details(self):\n",
        "    super().show_course_details()\n",
        "    super().display_instructor_details()\n",
        "\n",
        "cd=CourseDetails()\n",
        "cd.show_course_details()\n"
      ],
      "metadata": {
        "colab": {
          "base_uri": "https://localhost:8080/"
        },
        "id": "QLiVhKH9Ffnj",
        "outputId": "76588728-83b0-457b-dbb3-366f475da666"
      },
      "execution_count": 10,
      "outputs": [
        {
          "output_type": "stream",
          "name": "stdout",
          "text": [
            "course name is data science and duration is 10 months\n",
            "instructor name is sam\n"
          ]
        }
      ]
    },
    {
      "cell_type": "code",
      "source": [],
      "metadata": {
        "id": "VHtgu8WeJQZJ"
      },
      "execution_count": null,
      "outputs": []
    }
  ]
}