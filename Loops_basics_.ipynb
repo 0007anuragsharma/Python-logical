{
  "nbformat": 4,
  "nbformat_minor": 0,
  "metadata": {
    "colab": {
      "provenance": [],
      "include_colab_link": true
    },
    "kernelspec": {
      "name": "python3",
      "display_name": "Python 3"
    },
    "language_info": {
      "name": "python"
    }
  },
  "cells": [
    {
      "cell_type": "markdown",
      "metadata": {
        "id": "view-in-github",
        "colab_type": "text"
      },
      "source": [
        "<a href=\"https://colab.research.google.com/github/0007anuragsharma/Python-logical/blob/main/Loops_basics_.ipynb\" target=\"_parent\"><img src=\"https://colab.research.google.com/assets/colab-badge.svg\" alt=\"Open In Colab\"/></a>"
      ]
    },
    {
      "cell_type": "code",
      "execution_count": null,
      "metadata": {
        "id": "l1V8pWS7QwnE"
      },
      "outputs": [],
      "source": [
        "# Object Oriented Programming in Python -->\n",
        "#                                       This is a programing paradigm based on the concept of objects\n",
        "#                                       These object can contain data(attribute) and functionality(methods)\n",
        "#                                       python is an object oriented language"
      ]
    },
    {
      "cell_type": "code",
      "source": [
        "# python is a object oriented programming language meaning its suppose object orieted programming principles like --\n",
        "# Encapsulation\n",
        "# Inheritance\n",
        "# Polymorphism\n",
        "# Abstraction"
      ],
      "metadata": {
        "id": "UpdElf0OSXcP"
      },
      "execution_count": null,
      "outputs": []
    },
    {
      "cell_type": "code",
      "source": [
        "#  why we use oops :\n",
        "# 1>  resuability  ---> code can be reuse through inheritance and classes reducing redendency\n",
        "# 2> modularity  ---> programmes are divided into objects making them easier to understand and maintain\n",
        "# 3> data protection --> encapsulation helps restrict access to certain part an objects\n",
        "# 4> flexibility --> polymorphism allows the same interphase to interact with differnt type of objects"
      ],
      "metadata": {
        "id": "ODxGBIqkSxfZ"
      },
      "execution_count": null,
      "outputs": []
    },
    {
      "cell_type": "code",
      "source": [
        "# key concept ->\n",
        " # 1> Class -->\n",
        "#           A class is a blueprint for creating objects its defines a structure to hold data and functions related to that objects\n",
        "# ex class employ:\n",
        "\n",
        "# 2> Object ->\n",
        "#            An object is an  instance of a class  and it represents a specific entity created using the class blueprint\n",
        "# ex ram=employ()\n",
        "\n",
        "# 3> Self keyword-->\n",
        "#                   self is a refernce to the current instence of the class its allows to access object attribute and methods it must be the first parameter\n",
        "#                   in instence method when we calling a method self is pass automatically"
      ],
      "metadata": {
        "id": "FW9ifHDAUEEE"
      },
      "execution_count": null,
      "outputs": []
    },
    {
      "cell_type": "code",
      "source": [
        "class Employee:\n",
        "  location = \"jaipur\"\n",
        "\n",
        "  def __init__(self,location):\n",
        "    self.location = location\n",
        "\n",
        "s1 = Employee(\"Delhi\")\n",
        "print(\"location of s1\",s1.location)"
      ],
      "metadata": {
        "colab": {
          "base_uri": "https://localhost:8080/"
        },
        "id": "Tr_9WHLzWFqp",
        "outputId": "61326c85-c8b3-4972-e99e-be6363284e25"
      },
      "execution_count": null,
      "outputs": [
        {
          "output_type": "stream",
          "name": "stdout",
          "text": [
            "location of s1 Delhi\n"
          ]
        }
      ]
    },
    {
      "cell_type": "code",
      "source": [
        "class employee:\n",
        "  salary = 500\n",
        "\n",
        "Rohit=employee()\n",
        "Rohit.salary=1000\n",
        "Punit = employee()\n",
        "print(\"Rohit salary is =\",Rohit.salary)\n",
        "print(\"Punit salary is =\",Punit.salary)"
      ],
      "metadata": {
        "colab": {
          "base_uri": "https://localhost:8080/"
        },
        "id": "RXO5HbjPWuoV",
        "outputId": "4860af1e-1e0e-4581-ff3a-d5fb1c5cce61"
      },
      "execution_count": null,
      "outputs": [
        {
          "output_type": "stream",
          "name": "stdout",
          "text": [
            "Rohit salary is = 1000\n",
            "Punit salary is = 500\n"
          ]
        }
      ]
    },
    {
      "cell_type": "code",
      "source": [
        "# 1> Why we use self in oops ?\n",
        "# In python self represent the instance of the class and it is used to acess the attributes and method of the object that is currently being work on\n",
        "\n",
        "# 2> What is does self ?\n",
        "# Its bind the method and attributes to the specific object.\n",
        "\n",
        "# without self python could not know which object or attribute  or method to refer to and it allows us to maintain separate data for each object created from the class"
      ],
      "metadata": {
        "id": "rBqVQJ2LX5Kt"
      },
      "execution_count": null,
      "outputs": []
    },
    {
      "cell_type": "code",
      "source": [
        " # 3> what happen if do not use self ?\n",
        " #   If self is not use then the method will not have a way to refer to the object calling it ."
      ],
      "metadata": {
        "id": "cwYQ-imQY4Fe"
      },
      "execution_count": null,
      "outputs": []
    },
    {
      "cell_type": "code",
      "source": [
        "# Example with self =>\n",
        "\n",
        "class Dog:\n",
        "  def __init__(self,name,breed): # constructor with self\n",
        "    self.name = name\n",
        "    self.breed = breed\n",
        "\n",
        "  def bark(self):\n",
        "    print(f\"{self.name} says Woof!\")\n",
        "    print(f\"{self.breed} this is breed \")\n",
        "\n",
        "Dog1 = Dog(\"Buddy\",\"Golden Retriever\")\n",
        "Dog2 = Dog(\"Max\",\"Labrador\")\n",
        "\n",
        "# acess attributes and methods\n",
        "Dog1.bark()\n",
        "Dog2.bark()\n"
      ],
      "metadata": {
        "colab": {
          "base_uri": "https://localhost:8080/"
        },
        "id": "S1CUgy7DZSvk",
        "outputId": "03326402-c6e1-40ab-b49f-d137c5c0ae4c"
      },
      "execution_count": null,
      "outputs": [
        {
          "output_type": "stream",
          "name": "stdout",
          "text": [
            "Buddy says Woof!\n",
            "Golden Retriever this is breed \n",
            "Max says Woof!\n",
            "Labrador this is breed \n"
          ]
        }
      ]
    },
    {
      "cell_type": "code",
      "source": [
        "# Example without self =>\n",
        "\n",
        "class Dog:\n",
        "  def __init__(name, breed): # missing self\n",
        "    name = name        # this won`t blind to instance\n",
        "    breed = breed      # this won't blind to instance\n",
        "\n",
        "  def bark():\n",
        "    print(f\"{name} says Woof!\")\n",
        "\n",
        "# create an object\n",
        "Dog1 = Dog(\"Buddy\",\"Golden Retriever\")\n",
        "\n",
        "\n",
        "\n"
      ],
      "metadata": {
        "colab": {
          "base_uri": "https://localhost:8080/",
          "height": 218
        },
        "id": "hAm2F1YGa_4_",
        "outputId": "3488c1b4-d335-4851-fc17-2d3db64137fe"
      },
      "execution_count": null,
      "outputs": [
        {
          "output_type": "error",
          "ename": "TypeError",
          "evalue": "Dog.__init__() takes 2 positional arguments but 3 were given",
          "traceback": [
            "\u001b[0;31m---------------------------------------------------------------------------\u001b[0m",
            "\u001b[0;31mTypeError\u001b[0m                                 Traceback (most recent call last)",
            "\u001b[0;32m<ipython-input-6-c480c2f5c05d>\u001b[0m in \u001b[0;36m<cell line: 12>\u001b[0;34m()\u001b[0m\n\u001b[1;32m     10\u001b[0m \u001b[0;34m\u001b[0m\u001b[0m\n\u001b[1;32m     11\u001b[0m \u001b[0;34m\u001b[0m\u001b[0m\n\u001b[0;32m---> 12\u001b[0;31m \u001b[0mDog1\u001b[0m \u001b[0;34m=\u001b[0m \u001b[0mDog\u001b[0m\u001b[0;34m(\u001b[0m\u001b[0;34m\"Buddy\"\u001b[0m\u001b[0;34m,\u001b[0m\u001b[0;34m\"Golden Retriever\"\u001b[0m\u001b[0;34m)\u001b[0m\u001b[0;34m\u001b[0m\u001b[0;34m\u001b[0m\u001b[0m\n\u001b[0m\u001b[1;32m     13\u001b[0m \u001b[0;34m\u001b[0m\u001b[0m\n\u001b[1;32m     14\u001b[0m \u001b[0;34m\u001b[0m\u001b[0m\n",
            "\u001b[0;31mTypeError\u001b[0m: Dog.__init__() takes 2 positional arguments but 3 were given"
          ]
        }
      ]
    },
    {
      "cell_type": "code",
      "source": [
        "# 4> Attributes =>\n",
        "#               Attributes are variable that hold data about an object they are define inside a class and represent the properties or state of an objects"
      ],
      "metadata": {
        "id": "mTF5rTr-bz6e"
      },
      "execution_count": null,
      "outputs": []
    },
    {
      "cell_type": "code",
      "source": [
        "# 5> Methods =>\n",
        " #            Methods are function define inside a class that operate on the objects attributes they define the behaviour of an objects"
      ],
      "metadata": {
        "id": "tajvJJl4cPTT"
      },
      "execution_count": null,
      "outputs": []
    },
    {
      "cell_type": "code",
      "source": [
        "# quetion -- Create a calculator\n",
        "\n",
        "class calculator:\n",
        "  def __init__(self,num1,num2):\n",
        "    self.num1=num1\n",
        "    self.num2=num2\n",
        "\n",
        "  def add(self):\n",
        "    return self.num1 + self.num2\n",
        "\n",
        "  def subtract(self):\n",
        "    return self.num1 - self.num2\n",
        "\n",
        "  def multiply(self):\n",
        "    return self.num1 * self.num2\n",
        "\n",
        "  def divide(self):\n",
        "    if self.num2 !=0:\n",
        "      return self.num1/self.num2\n",
        "    else:\n",
        "      return \"divided by zero not allowed \"\n",
        "\n",
        "# Test the calculator class\n",
        "cls=calculator(10,5)\n",
        "\n",
        "print(cls.add())\n",
        "print(cls.subtract())\n",
        "print(cls.multiply())\n",
        "print(cls.divide())"
      ],
      "metadata": {
        "colab": {
          "base_uri": "https://localhost:8080/"
        },
        "id": "wxbfKroKc-5s",
        "outputId": "2cfbf662-b47b-4c17-e68c-ecedd2c3e9db"
      },
      "execution_count": null,
      "outputs": [
        {
          "output_type": "stream",
          "name": "stdout",
          "text": [
            "15\n",
            "5\n",
            "50\n",
            "2.0\n"
          ]
        }
      ]
    },
    {
      "cell_type": "code",
      "source": [
        "# que 2  Create a bank account\n",
        "\n",
        "class BankAccount:\n",
        "  def __init__(self,holder_name,balance=0):\n",
        "    self.holder_name = holder_name\n",
        "    self.balance = balance\n",
        "\n",
        "  def deposit(self,amount):\n",
        "    self.balance+=amount\n",
        "    print(f\"{amount} deposited . New balance: {self.balance}\")\n",
        "\n",
        "  def withdraw(self,amount):\n",
        "    if amount <= self.balance:\n",
        "      self.balance-=amount\n",
        "      print(f\"{amount} withdrawn. Remaining balance: {self.balance}\")\n",
        "    else:\n",
        "      print(\"Insufficient funds!\")\n",
        "\n",
        "  def check_balance(self):\n",
        "    return f\"Account balance for {self.holder_name}: {self.balance}\"\n",
        "\n",
        "account = BankAccount(\"Gaurav\",1000)\n",
        "account.deposit(500)\n",
        "account.withdraw(300)\n",
        "print(account.check_balance())\n"
      ],
      "metadata": {
        "id": "ARWDKPU0eOOI",
        "colab": {
          "base_uri": "https://localhost:8080/"
        },
        "outputId": "d95aad0e-3e91-4679-bef4-1bad5bfcf86f"
      },
      "execution_count": null,
      "outputs": [
        {
          "output_type": "stream",
          "name": "stdout",
          "text": [
            "500 deposited . New balance: 1500\n",
            "300 withdrawn. Remaining balance: 1200\n",
            "Account balance for Gaurav: 1200\n"
          ]
        }
      ]
    },
    {
      "cell_type": "code",
      "source": [
        "# que 3 Create a student class\n",
        "\n",
        "class student:\n",
        "  def __init__(self,name,age,marks):\n",
        "    self.name=name\n",
        "    self.age=age\n",
        "    self.marks=marks\n",
        "\n",
        "  def display_detail(self):\n",
        "    print(f\"name: {self.name}\")\n",
        "    print(f\"age: {self.age} \")\n",
        "    print(f\"marks:{self.marks}\")\n",
        "\n",
        "  def result(self):\n",
        "    if self.marks >=40:\n",
        "      print(f\"{self.name} passed\")\n",
        "    else:\n",
        "      return f\"{self.name} fail\"\n",
        "\n",
        "s1=student(\"Jai\",22,89)\n",
        "s1.display_detail()\n",
        "\n",
        "s1.result()\n",
        "\n",
        "\n"
      ],
      "metadata": {
        "colab": {
          "base_uri": "https://localhost:8080/"
        },
        "id": "e2wsfi4JdnPr",
        "outputId": "35ea11e6-ceb6-413e-f632-b014c9f49677"
      },
      "execution_count": null,
      "outputs": [
        {
          "output_type": "stream",
          "name": "stdout",
          "text": [
            "name: Jai\n",
            "age: 22 \n",
            "marks:89\n",
            "Jai passed\n"
          ]
        }
      ]
    },
    {
      "cell_type": "code",
      "source": [
        "# Que 4 Create an Employ managment system\n",
        "\n",
        "class employee:\n",
        "  def __init__(self,name,id,salary):\n",
        "    self.name =  name\n",
        "    self.id = id\n",
        "    self.salary = salary\n",
        "\n",
        "  def display_detail(self):\n",
        "      print(f\"name: {self.name}\")\n",
        "      print(f\"age: {self.id} \")\n",
        "      print(f\"marks:{self.salary}\")\n",
        "\n",
        "  def annual_salary(self):\n",
        "    self.annual_salary = self.salary*12\n",
        "    print(\"annual salary\",self.annual_salary)\n",
        "\n",
        "s1=employee(\"Ram\",12321,25000)\n",
        "s1.display_detail()\n",
        "s1.annual_salary()"
      ],
      "metadata": {
        "colab": {
          "base_uri": "https://localhost:8080/"
        },
        "id": "7B_cebzYf_EG",
        "outputId": "ba8a0f72-c964-49c9-a2ff-fb863c7d1ca1"
      },
      "execution_count": null,
      "outputs": [
        {
          "output_type": "stream",
          "name": "stdout",
          "text": [
            "name: Ram\n",
            "age: 12321 \n",
            "marks:25000\n",
            "annual salary 300000\n"
          ]
        }
      ]
    },
    {
      "cell_type": "code",
      "source": [
        "# Que 4 create a library system\n",
        "\n",
        "class Library:\n",
        "  def __init__(self,title,author):\n",
        "    self.title=title\n",
        "    self.author=author\n",
        "    self.is_available = True\n",
        "  def check_availability(self):\n",
        "    if self.availability:\n",
        "      print(f\"{self.title} by {self.author} is available.\")\n",
        "    else:\n",
        "      print(f\"{self.title} by {self.author} is not available.\")\n",
        "  def borrow(self):\n",
        "    if self.is_available:\n",
        "      self.is_available = False\n",
        "      print(f\"You have borrowed {self.title} by {self.author}\")\n",
        "    else:\n",
        "      self.is_available = True\n",
        "      print(f\"You have borrowed {self.title} by {self.author}\")\n",
        "  def display_detail(self):\n",
        "      print(f\"Title: {self.title}\")\n",
        "      print(f\"Author: {self.author} \")\n",
        "\n",
        "\n",
        "book = Library(\"Making India Awesome\",\"chetan Bagat\")\n",
        "book.display_detail()\n",
        "book.borrow()\n"
      ],
      "metadata": {
        "colab": {
          "base_uri": "https://localhost:8080/"
        },
        "id": "8M2EW7GliM0U",
        "outputId": "c08a720d-27bc-4567-dc35-9e58ebfe5a58"
      },
      "execution_count": null,
      "outputs": [
        {
          "output_type": "stream",
          "name": "stdout",
          "text": [
            "Title: Making India Awesome\n",
            "Author: chetan Bagat \n",
            "You have borrowed Making India Awesome by chetan Bagat\n"
          ]
        }
      ]
    },
    {
      "cell_type": "code",
      "source": [
        "class Book:\n",
        "  def init(self, title, author, availability=True):\n",
        "    self.title = title\n",
        "    self.author = author\n",
        "    self.availability = availability\n",
        "\n",
        "  def check_availability(self):\n",
        "    if self.availability:\n",
        "      print(f\"{self.title} by {self.author} is available.\")\n",
        "    else:\n",
        "      print(f\"{self.title} by {self.author} is not available.\")\n",
        "\n",
        "  def borrow_book(self):\n",
        "    if self.availability:\n",
        "      self.availability = False\n",
        "      print(f\"You have borrowed {self.title} by {self.author}.\")\n",
        "\n",
        "    else:\n",
        "      print(f\"{self.title} by {self.author} is not available for borrowing.\")\n",
        "\n",
        "  def return_book(self):\n",
        "    if not self.availability:\n",
        "      self.availability = True\n",
        "      print(f\"You have returned {self.title} by {self.author}.\")\n",
        "\n",
        "book=Book(\"The Alchemist\", \"Paulo Coelho\")\n",
        "book.check_availability()\n",
        "book.availability=False\n",
        "book.check_availability()\n",
        "\n",
        "book1=Book(\"harry potter\", \"J.K. Rowling\")\n",
        "book1.check_availability()\n",
        "book1.borrow_book()\n",
        "book1.return_book()"
      ],
      "metadata": {
        "colab": {
          "base_uri": "https://localhost:8080/",
          "height": 218
        },
        "id": "fVv_fKNmnBJI",
        "outputId": "fc48ae9f-b983-4df0-f358-83e97e0c6526"
      },
      "execution_count": null,
      "outputs": [
        {
          "output_type": "error",
          "ename": "TypeError",
          "evalue": "Book() takes no arguments",
          "traceback": [
            "\u001b[0;31m---------------------------------------------------------------------------\u001b[0m",
            "\u001b[0;31mTypeError\u001b[0m                                 Traceback (most recent call last)",
            "\u001b[0;32m<ipython-input-26-b173edb4d835>\u001b[0m in \u001b[0;36m<cell line: 26>\u001b[0;34m()\u001b[0m\n\u001b[1;32m     24\u001b[0m       \u001b[0mprint\u001b[0m\u001b[0;34m(\u001b[0m\u001b[0;34mf\"You have returned {self.title} by {self.author}.\"\u001b[0m\u001b[0;34m)\u001b[0m\u001b[0;34m\u001b[0m\u001b[0;34m\u001b[0m\u001b[0m\n\u001b[1;32m     25\u001b[0m \u001b[0;34m\u001b[0m\u001b[0m\n\u001b[0;32m---> 26\u001b[0;31m \u001b[0mbook\u001b[0m\u001b[0;34m=\u001b[0m\u001b[0mBook\u001b[0m\u001b[0;34m(\u001b[0m\u001b[0;34m\"The Alchemist\"\u001b[0m\u001b[0;34m,\u001b[0m \u001b[0;34m\"Paulo Coelho\"\u001b[0m\u001b[0;34m)\u001b[0m\u001b[0;34m\u001b[0m\u001b[0;34m\u001b[0m\u001b[0m\n\u001b[0m\u001b[1;32m     27\u001b[0m \u001b[0mbook\u001b[0m\u001b[0;34m.\u001b[0m\u001b[0mcheck_availability\u001b[0m\u001b[0;34m(\u001b[0m\u001b[0;34m)\u001b[0m\u001b[0;34m\u001b[0m\u001b[0;34m\u001b[0m\u001b[0m\n\u001b[1;32m     28\u001b[0m \u001b[0mbook\u001b[0m\u001b[0;34m.\u001b[0m\u001b[0mavailability\u001b[0m\u001b[0;34m=\u001b[0m\u001b[0;32mFalse\u001b[0m\u001b[0;34m\u001b[0m\u001b[0;34m\u001b[0m\u001b[0m\n",
            "\u001b[0;31mTypeError\u001b[0m: Book() takes no arguments"
          ]
        }
      ]
    }
  ]
}