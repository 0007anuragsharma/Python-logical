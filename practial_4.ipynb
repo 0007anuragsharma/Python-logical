{
  "nbformat": 4,
  "nbformat_minor": 0,
  "metadata": {
    "colab": {
      "provenance": [],
      "authorship_tag": "ABX9TyNK6KU4yTg/s/pQhGb/icj3",
      "include_colab_link": true
    },
    "kernelspec": {
      "name": "python3",
      "display_name": "Python 3"
    },
    "language_info": {
      "name": "python"
    }
  },
  "cells": [
    {
      "cell_type": "markdown",
      "metadata": {
        "id": "view-in-github",
        "colab_type": "text"
      },
      "source": [
        "<a href=\"https://colab.research.google.com/github/0007anuragsharma/Python-logical/blob/main/practial_4.ipynb\" target=\"_parent\"><img src=\"https://colab.research.google.com/assets/colab-badge.svg\" alt=\"Open In Colab\"/></a>"
      ]
    },
    {
      "cell_type": "code",
      "execution_count": null,
      "metadata": {
        "colab": {
          "base_uri": "https://localhost:8080/"
        },
        "id": "5We3LY-hCFyH",
        "outputId": "58256471-4c36-4711-cdd8-5163817cdfdb"
      },
      "outputs": [
        {
          "output_type": "stream",
          "name": "stdout",
          "text": [
            "enter the value of a 8\n",
            "enter the value of b 7\n",
            "enter the value of c 6\n",
            "a is greater\n"
          ]
        }
      ],
      "source": [
        "from typing import AsyncGenerator\n",
        "list1=[1,2,3,4]\n",
        "1---0\n",
        "2---1\n",
        "3---2\n",
        "4---3\n",
        "\n",
        "#positive indexting===0,1,2,3,4,5....\n",
        "#negative indexting====-1,-2,-3.....\n",
        "\n",
        "\n",
        "age = int(input('enter your age'))\n",
        "if age >= 18:\n",
        "    print('you can vote')\n",
        "else:\n",
        "    print('you can not vote')\"\"\"\n",
        "\"\"\"age=int(input('enter your age'))\n",
        "has_voiterid=bool(input('enter true or false '))\n",
        "\n",
        "if((age>=18) and (has_voiterid==True)):\n",
        "    print('you can vote')\n",
        "elif((age>=18) and (has_voiterid==False)):\n",
        "    print('you can not vote')\n",
        "else:\n",
        "    print('not eligible')\n",
        "\n",
        "\n",
        "a=int(input('enter the value of a '));\n",
        "b=int(input('enter the value of b '));\n",
        "c=int(input('enter the value of c '));\n",
        "\n",
        "if(a>b and a>c and a!=b and a!=c):\n",
        "    print('a is greater')\n",
        "elif(b>a and b>c and b!=c and b!=a):\n",
        "    print('b is greater')\n",
        "elif(c>a and c>b and c!=a and c!=b):\n",
        "    print('c is greater')\n",
        "elif(a==b or b==c or a==c):\n",
        "  print('Two are equal')\n",
        "\n",
        "\n",
        "\n",
        "\n"
      ]
    }
  ]
}