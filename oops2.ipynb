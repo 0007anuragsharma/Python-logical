{
  "nbformat": 4,
  "nbformat_minor": 0,
  "metadata": {
    "colab": {
      "provenance": [],
      "authorship_tag": "ABX9TyN6ZYL+lxTHJ0xZO3qtdHL5",
      "include_colab_link": true
    },
    "kernelspec": {
      "name": "python3",
      "display_name": "Python 3"
    },
    "language_info": {
      "name": "python"
    }
  },
  "cells": [
    {
      "cell_type": "markdown",
      "metadata": {
        "id": "view-in-github",
        "colab_type": "text"
      },
      "source": [
        "<a href=\"https://colab.research.google.com/github/0007anuragsharma/Python-logical/blob/main/oops2.ipynb\" target=\"_parent\"><img src=\"https://colab.research.google.com/assets/colab-badge.svg\" alt=\"Open In Colab\"/></a>"
      ]
    },
    {
      "cell_type": "code",
      "execution_count": null,
      "metadata": {
        "id": "Zv0D1dTDhpC2"
      },
      "outputs": [],
      "source": [
        "# Encapsulation =>\n",
        "#              Encapsulation is the process of bundling data and methods that operate on the data into a single unit called a class.It also involve restricting direct acess  to some of the object\n",
        "# attribute and method to protect the integrity of the dat.This is typically done by attributes private and exposing them through public methods(getters and setters)\n",
        "#\n"
      ]
    },
    {
      "cell_type": "code",
      "source": [
        "# Q=why is Encapsulation impotant=\n",
        "\n",
        "# 1> its improves data security by restricting unauthorise access\n",
        "# 2> it promots modularity by hiding implementation details\n",
        "# 3> it unable cantrol over the data by providing cantrol access throug methods\n",
        "# 4> it enhanse code mentability and resuability by protecting data from unintended modifications.\n"
      ],
      "metadata": {
        "id": "fK_RRs5nk8SU"
      },
      "execution_count": null,
      "outputs": []
    },
    {
      "cell_type": "code",
      "source": [
        "# Q= How is Encapsulation implement in python\n",
        "                                                # Encapsulation  in python is imlement by declaring attribute private using a (\"\") providing public methods like gatter and setter\n",
        "                                                #it access and modify privite attributs"
      ],
      "metadata": {
        "id": "P6UqQR2qlwxm"
      },
      "execution_count": null,
      "outputs": []
    },
    {
      "cell_type": "code",
      "source": [
        "# Q4= How do private and protected attributs relate to Encapsulation\n",
        "\n",
        "#1> private attributs (\"attribute\")--> Fully Encapsulation the data and they only be access with in the class\n",
        "#2> Protected Attributs('attribute')--> Provide partial Encapsulation indicating that they shud be access only with in the class or subclass\n"
      ],
      "metadata": {
        "id": "69t5K4comkQn"
      },
      "execution_count": null,
      "outputs": []
    },
    {
      "cell_type": "code",
      "source": [
        "# Q5 Can Encapsulation be achive without using private attributs\n",
        "# Yes Encapsulation can still be achive without private attributs by using public methods to inforce data integrity however private attributs provide an additional layer\n",
        "# of secure key to prevent accidental or unauthorised access"
      ],
      "metadata": {
        "id": "AQkYfcq2nUSZ"
      },
      "execution_count": null,
      "outputs": []
    },
    {
      "cell_type": "code",
      "source": [
        "#Q6 how does Encapsulation help in debuging and maintainig code\n",
        "# 1= Encapsulation help maintaing and debuging > restricting direct , reducing unintended side effect\n",
        "# 2=Allowing canges to the internal implemention without affecting other part of the programe\n",
        "# 3= It is providing clear interface for intereacting with in object data and behaviour"
      ],
      "metadata": {
        "id": "o0Pi1G39oIGI"
      },
      "execution_count": null,
      "outputs": []
    },
    {
      "cell_type": "code",
      "source": [
        "# Q7 What are the disadvantage of Encapsulation\n",
        "\n",
        "# 1= it increase complexcity in implementation as devlopers need to create getter and setters\n",
        "# 2= slide performance over had dueto methods calls for accessing attributes\n",
        "# 3= It may lead to overenginnering if used unneccessrly in simple programe"
      ],
      "metadata": {
        "id": "THSW-imPpCVO"
      },
      "execution_count": null,
      "outputs": []
    },
    {
      "cell_type": "code",
      "source": [
        "# Q8 How can Encapsulation violate the dry principle ?\n",
        "# 1 = Encapsulation can violate the dry principle when gatter and setters are return redundently for every private attribute spicaly in cases where dirict access to the data\n",
        "      # would suffix(simple data object without criticle security concern )"
      ],
      "metadata": {
        "id": "m5sUf_FUp0Wc"
      },
      "execution_count": null,
      "outputs": []
    },
    {
      "cell_type": "code",
      "source": [
        "# Q9 Is is possible to access private attribute outside the class in python ?\n",
        "#1 = Yes private attribute can access using name mangling pythpon internaly changes the name of private attributes to single undersore and double\n",
        "# underscore attributes name (\"attribute\")"
      ],
      "metadata": {
        "id": "miY58g5qrEvM"
      },
      "execution_count": null,
      "outputs": []
    },
    {
      "cell_type": "code",
      "source": [
        "class Example:\n",
        "  def __init__(self):\n",
        "    self.__private=\"Secret\"\n",
        "\n",
        "obj=Example()\n",
        "print(obj._Example__private) #Accessing private attribute using name"
      ],
      "metadata": {
        "colab": {
          "base_uri": "https://localhost:8080/"
        },
        "id": "pkteqw-GsERN",
        "outputId": "9745e5ef-b24c-4fe9-b5f6-bb04fd18b0ba"
      },
      "execution_count": 2,
      "outputs": [
        {
          "output_type": "stream",
          "name": "stdout",
          "text": [
            "Secret\n"
          ]
        }
      ]
    },
    {
      "cell_type": "code",
      "source": [
        "class BankAccount:\n",
        "  def __init__(self,account_holder,balance):\n",
        "    self.__account_holder=account_holder\n",
        "    self.__balance= balance\n",
        "\n",
        "  def get_account_holder(self):\n",
        "    return self.__account_holder\n",
        "\n",
        "\n",
        "  def get_balance(self):\n",
        "    return self.__balance\n",
        "\n",
        "\n",
        "  def deposit(self,amount):\n",
        "    if amount > 0:\n",
        "      self.__balance += amount\n",
        "      return f\"Deposit successful ! New balance {self.__balance}\"\n",
        "    else:\n",
        "      return \"Invalid deposit amount !\"\n",
        "\n",
        "\n",
        "  def withdraw(self,amount):\n",
        "    if amount <= self.__balance:\n",
        "      self.__balance -= amount\n",
        "      return f\"withdrawal successful ! New balance {self.__balance}\"\n",
        "    else:\n",
        "      return \"Insufficient Funds !\"\n",
        "\n",
        "\n",
        "account= BankAccount(\"Anurag\",500000)\n",
        "print(account.get_account_holder())\n",
        "print(account.get_balance())\n",
        "print(account.deposit(20000))\n",
        "print(account.withdraw(100000))\n",
        "\n",
        "\n",
        "# print(account.__balance)  #Error :- Attribute Error\n",
        "\n",
        "\n",
        "\n"
      ],
      "metadata": {
        "colab": {
          "base_uri": "https://localhost:8080/"
        },
        "id": "Kbc3w8MrsW-n",
        "outputId": "8d9cf2d0-47bb-4641-80ac-40680ac2680b"
      },
      "execution_count": 8,
      "outputs": [
        {
          "output_type": "stream",
          "name": "stdout",
          "text": [
            "Anurag\n",
            "500000\n",
            "Deposit successful ! New balance 520000\n",
            "withdrawal successful ! New balance 420000\n"
          ]
        }
      ]
    },
    {
      "cell_type": "code",
      "source": [
        "class Student:\n",
        "  def __init__(self,name,grade):\n",
        "    self.name=name\n",
        "    self.__grade=grade\n",
        "\n",
        "\n",
        "  def get_grade(self):\n",
        "    return self.__grade\n",
        "\n",
        "  def set_grade(self,new_grade):\n",
        "    if 0 <= new_grade<= 100:\n",
        "      self.__grade = new_grade\n",
        "      return \"Grade update successfully\"\n",
        "    else:\n",
        "      return \" Invalid grade! Must be between 0 and 100\"\n",
        "\n",
        "\n",
        "student=Student(\"Anurag\",90)\n",
        "print(student.name)\n",
        "print(student.get_grade)\n",
        "print(student.set_grade(98))\n",
        "print(student.get_grade())\n",
        "print(student.set_grade(110))"
      ],
      "metadata": {
        "colab": {
          "base_uri": "https://localhost:8080/"
        },
        "id": "bwrRkXlqu89o",
        "outputId": "b4184b67-d453-4a3e-c10a-ae0fa42c0f80"
      },
      "execution_count": 11,
      "outputs": [
        {
          "output_type": "stream",
          "name": "stdout",
          "text": [
            "Anurag\n",
            "<bound method Student.get_grade of <__main__.Student object at 0x7f89b4dae3b0>>\n",
            "Grade update successfully\n",
            "98\n",
            " Invalid grade! Must be between 0 and 100\n"
          ]
        }
      ]
    },
    {
      "cell_type": "code",
      "source": [],
      "metadata": {
        "id": "v6J1IWB8wOXQ"
      },
      "execution_count": null,
      "outputs": []
    }
  ]
}