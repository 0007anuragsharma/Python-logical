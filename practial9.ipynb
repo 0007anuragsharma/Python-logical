{
  "nbformat": 4,
  "nbformat_minor": 0,
  "metadata": {
    "colab": {
      "provenance": [],
      "authorship_tag": "ABX9TyN+PLpPMSz8cG483iTjHQbm",
      "include_colab_link": true
    },
    "kernelspec": {
      "name": "python3",
      "display_name": "Python 3"
    },
    "language_info": {
      "name": "python"
    }
  },
  "cells": [
    {
      "cell_type": "markdown",
      "metadata": {
        "id": "view-in-github",
        "colab_type": "text"
      },
      "source": [
        "<a href=\"https://colab.research.google.com/github/0007anuragsharma/Python-logical/blob/main/practial9.ipynb\" target=\"_parent\"><img src=\"https://colab.research.google.com/assets/colab-badge.svg\" alt=\"Open In Colab\"/></a>"
      ]
    },
    {
      "cell_type": "code",
      "execution_count": null,
      "metadata": {
        "colab": {
          "base_uri": "https://localhost:8080/"
        },
        "id": "GFLx1-wcYtRj",
        "outputId": "aed22fb6-6024-44f2-fb53-98e474d81c16"
      },
      "outputs": [
        {
          "output_type": "stream",
          "name": "stdout",
          "text": [
            "[1, 2, 3, 4, 22]\n",
            "[1, 2, 3, 4, 22, 44, 33]\n",
            "[1, 2, 99, 3, 4, 22, 44, 33]\n",
            "[1, 2, 99, 4, 22, 44, 33]\n",
            "[1, 2, 4, 22, 44, 33]\n",
            "[1, 2, 4, 22, 44]\n",
            "[]\n"
          ]
        },
        {
          "output_type": "execute_result",
          "data": {
            "text/plain": [
              "2"
            ]
          },
          "metadata": {},
          "execution_count": 18
        }
      ],
      "source": [
        "#list1=[1,2,3,4,5,66,78,11,99,'anurag',True,'hello']\n",
        "#print(list1)\n",
        "\n",
        "\n",
        "#tuple1=(1,22,4.5,6.6,'anurag',True,'hello')\n",
        "#print(tuple1)\n",
        "\n",
        "\n",
        "#append\n",
        "li=[1,2,3,4]\n",
        "li.append(22)\n",
        "print(li)\n",
        "\n",
        "#extend\n",
        "li.extend([44,33])\n",
        "print(li)\n",
        "\n",
        "\n",
        "#insert\n",
        "li.insert(2,99)\n",
        "print(li)\n",
        "\n",
        "#remove\n",
        "li.remove(3)\n",
        "print(li)\n",
        "\n",
        "#pop\n",
        "li.pop(2)\n",
        "print(li)\n",
        "\n",
        "li.pop()\n",
        "print(li)\n",
        "\n",
        "#clear\n",
        "li.clear()\n",
        "print(li)\n",
        "\n",
        "#index\n",
        "li=[1,2,3,4,5,6,7,8,9,10,11,2,3,4,5]\n",
        "li.index(9)\n",
        "\n",
        "\n",
        "#count\n",
        "\n",
        "li.count(4)\n",
        "\n"
      ]
    }
  ]
}