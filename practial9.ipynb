{
  "nbformat": 4,
  "nbformat_minor": 0,
  "metadata": {
    "colab": {
      "provenance": [],
      "authorship_tag": "ABX9TyNU0GDimeUGn9lVfUUhTgCY",
      "include_colab_link": true
    },
    "kernelspec": {
      "name": "python3",
      "display_name": "Python 3"
    },
    "language_info": {
      "name": "python"
    }
  },
  "cells": [
    {
      "cell_type": "markdown",
      "metadata": {
        "id": "view-in-github",
        "colab_type": "text"
      },
      "source": [
        "<a href=\"https://colab.research.google.com/github/0007anuragsharma/Python-logical/blob/main/practial9.ipynb\" target=\"_parent\"><img src=\"https://colab.research.google.com/assets/colab-badge.svg\" alt=\"Open In Colab\"/></a>"
      ]
    },
    {
      "cell_type": "code",
      "execution_count": 28,
      "metadata": {
        "colab": {
          "base_uri": "https://localhost:8080/"
        },
        "id": "-fY63SCAZvTg",
        "outputId": "48b0fe86-c8b8-49b6-9968-f01655ef9898"
      },
      "outputs": [
        {
          "output_type": "execute_result",
          "data": {
            "text/plain": [
              "19"
            ]
          },
          "metadata": {},
          "execution_count": 28
        }
      ],
      "source": [
        "#list indexing and slicing\n",
        "#Indexing\n",
        "list1=[22,12,19,13,16,23,45,54,36,63,90]\n",
        "\n",
        "#positive indexing=0 staring point----(0,1,2,3,4,5.....)\n",
        "\n",
        "\n",
        "list1[3]\n",
        "list1[7]\n",
        "list1[10]\n",
        "list1[-4]\n",
        "list1[-9]\n"
      ]
    },
    {
      "cell_type": "code",
      "source": [
        "list1=[33,54,76,12,66,90,23,45]\n",
        "\n",
        "#Negative indexing\n",
        "list1[-1]\n",
        "list1[-4]\n",
        "list1[-6]\n",
        "list1[-2]"
      ],
      "metadata": {
        "colab": {
          "base_uri": "https://localhost:8080/"
        },
        "id": "qBUsDxjWav3I",
        "outputId": "bcaa6724-b6da-468e-b8f6-f2dfa0ba80bf"
      },
      "execution_count": 23,
      "outputs": [
        {
          "output_type": "execute_result",
          "data": {
            "text/plain": [
              "23"
            ]
          },
          "metadata": {},
          "execution_count": 23
        }
      ]
    },
    {
      "cell_type": "code",
      "source": [
        "#slicing\n",
        "\n",
        "#to slice a partof list or to geta part of list\n",
        "\n",
        "# [start:end+1[stepsize]]\n",
        "\n",
        "list2=[22,12,34,54,23,76,45,89,90,65,66,67,25,26,27]\n",
        "\n",
        "list2[2:6]\n",
        "list2[0:8:2]\n",
        "list2[3:7]\n",
        "list2[3:14:4]\n",
        "list2[4:14:3]\n",
        "list2[1:14:6]\n",
        "list2[-1:-4:-2]\n",
        "list2[-1:-14:-2]\n",
        "list2[8:6:-2]\n",
        "list2[4:8:-2]\n",
        "list2[5:-2:-4]"
      ],
      "metadata": {
        "colab": {
          "base_uri": "https://localhost:8080/"
        },
        "id": "kjhh29Bddc8Q",
        "outputId": "d409508f-ac44-4de4-e595-181b67fd1a45"
      },
      "execution_count": 35,
      "outputs": [
        {
          "output_type": "execute_result",
          "data": {
            "text/plain": [
              "[]"
            ]
          },
          "metadata": {},
          "execution_count": 35
        }
      ]
    },
    {
      "cell_type": "code",
      "source": [],
      "metadata": {
        "id": "wPNojg62d92w"
      },
      "execution_count": null,
      "outputs": []
    },
    {
      "cell_type": "code",
      "source": [],
      "metadata": {
        "id": "VOOcz2Dgd8RC"
      },
      "execution_count": null,
      "outputs": []
    }
  ]
}