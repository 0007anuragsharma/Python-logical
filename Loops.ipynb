{
  "nbformat": 4,
  "nbformat_minor": 0,
  "metadata": {
    "colab": {
      "provenance": [],
      "authorship_tag": "ABX9TyM3bH8rKHH8c3TzYwzid4OR",
      "include_colab_link": true
    },
    "kernelspec": {
      "name": "python3",
      "display_name": "Python 3"
    },
    "language_info": {
      "name": "python"
    }
  },
  "cells": [
    {
      "cell_type": "markdown",
      "metadata": {
        "id": "view-in-github",
        "colab_type": "text"
      },
      "source": [
        "<a href=\"https://colab.research.google.com/github/0007anuragsharma/Python-logical/blob/main/Loops.ipynb\" target=\"_parent\"><img src=\"https://colab.research.google.com/assets/colab-badge.svg\" alt=\"Open In Colab\"/></a>"
      ]
    },
    {
      "cell_type": "code",
      "execution_count": 20,
      "metadata": {
        "colab": {
          "base_uri": "https://localhost:8080/"
        },
        "id": "3PhacMlTbfk2",
        "outputId": "2661030b-a9e7-4a3c-de3b-40f107825216"
      },
      "outputs": [
        {
          "output_type": "stream",
          "name": "stdout",
          "text": [
            "500 deposited. New balance: 1500\n",
            "300 withdrawn. Remaining balance: 1200\n",
            "Account balance for Saurabh: 1200\n"
          ]
        }
      ],
      "source": [
        "class BankAccount:\n",
        "    def __init__(self, holder_name, balance=0):\n",
        "        self.holder_name = holder_name\n",
        "        self.balance = balance\n",
        "\n",
        "    def deposit(self, amount):\n",
        "        self.balance += amount\n",
        "        print(f\"{amount} deposited. New balance: {self.balance}\")\n",
        "\n",
        "    def withdraw(self, amount):\n",
        "        if amount <= self.balance:\n",
        "            self.balance -= amount\n",
        "            print(f\"{amount} withdrawn. Remaining balance: {self.balance}\")\n",
        "        else:\n",
        "            print(\"Insufficient Funds!\")\n",
        "\n",
        "    def check_balance(self):\n",
        "        return f\"Account balance for {self.holder_name}: {self.balance}\"\n",
        "\n",
        "\n",
        "# Example usage\n",
        "account = BankAccount(\"Saurabh\", 1000)\n",
        "account.deposit(500)\n",
        "account.withdraw(300)\n",
        "print(account.check_balance())\n"
      ]
    },
    {
      "cell_type": "code",
      "source": [
        "class Student:\n",
        "  def __init__(self,name,age,marks):\n",
        "    self.name=name\n",
        "    self.age=age\n",
        "    self.marks=marks\n",
        "\n",
        "\n",
        "  def display_details(self):\n",
        "    print(f\"name:{self.name}\")\n",
        "    print(f\"age:{self.age}\")\n",
        "    print(f\"marks:{self.marks}\")\n",
        "\n",
        "\n",
        "  def check_pass(self):\n",
        "    if self.marks>=40:\n",
        "      print(\"student pass\")\n",
        "\n",
        "    else:\n",
        "      print(\"student not pass\")\n",
        "\n",
        "\n",
        "stu=Student(\"anurag ajay \",88,60)\n",
        "stu.display_details()\n",
        "stu.check_pass()\n"
      ],
      "metadata": {
        "colab": {
          "base_uri": "https://localhost:8080/"
        },
        "id": "YB13Hsi0dES_",
        "outputId": "9c433de1-f23e-4e64-c761-628de3508f9d"
      },
      "execution_count": 3,
      "outputs": [
        {
          "output_type": "stream",
          "name": "stdout",
          "text": [
            "name:anurag ajay \n",
            "age:88\n",
            "marks:60\n",
            "student pass\n"
          ]
        }
      ]
    },
    {
      "cell_type": "code",
      "source": [
        "class Employee:\n",
        "  def __init__(self,name,ID,salary):\n",
        "    self.name=name\n",
        "    self.ID=ID\n",
        "    self.salary=salary\n",
        "\n",
        "  def display_details(self):\n",
        "    print(f\"name:{self.name}\")\n",
        "    print(f\"ID:{self.ID}\")\n",
        "    print(f\"salary:{self.salary}\")\n",
        "\n",
        "\n",
        "  def display_annual_salary(self):\n",
        "    self.salary=self.salary*12\n",
        "\n",
        "emp=Employee(\"Ajay\",100,12000)\n",
        "emp.display_annual_salary()\n",
        "emp.display_details()\n",
        "\n",
        "\n"
      ],
      "metadata": {
        "colab": {
          "base_uri": "https://localhost:8080/"
        },
        "id": "argTXcUXfe1t",
        "outputId": "a9ab71b5-3635-4a2a-df1b-6dcc1d062b32"
      },
      "execution_count": 12,
      "outputs": [
        {
          "output_type": "stream",
          "name": "stdout",
          "text": [
            "name:Ajay\n",
            "ID:100\n",
            "salary:144000\n"
          ]
        }
      ]
    },
    {
      "cell_type": "code",
      "source": [
        "class Book:\n",
        "  def __init__(self,title,author):\n",
        "    self.title=title\n",
        "    self.author=author\n",
        "    self.is_available=True\n",
        "\n",
        "\n",
        "  def borrow(self):\n",
        "    if self.is_available:\n",
        "      self.is_available=False\n",
        "\n",
        "\n"
      ],
      "metadata": {
        "id": "HGtJ4SvIga-n"
      },
      "execution_count": null,
      "outputs": []
    },
    {
      "cell_type": "code",
      "source": [
        "class Book:\n",
        "    def __init__(self, title, author, availability=True):\n",
        "        self.title = title\n",
        "        self.author = author\n",
        "        self.availability = availability\n",
        "\n",
        "    def check_availability(self):\n",
        "        if self.availability:\n",
        "            print(f\"{self.title} by {self.author} is available.\")\n",
        "        else:\n",
        "            print(f\"{self.title} by {self.author} is not available.\")\n",
        "\n",
        "book = Book(\"The Alchemist\", \"Paulo Coelho\")\n",
        "book.check_availability()\n",
        "book.availability = False\n",
        "book.check_availability()\n",
        "\n",
        "book1 = Book(\"Harry Potter\", \"J.K. Rowling\")\n",
        "book1.check_availability()\n"
      ],
      "metadata": {
        "colab": {
          "base_uri": "https://localhost:8080/"
        },
        "id": "kIkR2Qzik0VJ",
        "outputId": "5b3286bf-3b8c-4fd3-a6ff-2f298d3aa334"
      },
      "execution_count": 19,
      "outputs": [
        {
          "output_type": "stream",
          "name": "stdout",
          "text": [
            "The Alchemist by Paulo Coelho is available.\n",
            "The Alchemist by Paulo Coelho is not available.\n",
            "Harry Potter by J.K. Rowling is available.\n"
          ]
        }
      ]
    },
    {
      "cell_type": "code",
      "source": [],
      "metadata": {
        "id": "Zgi-WAwXk1TM"
      },
      "execution_count": 17,
      "outputs": []
    },
    {
      "cell_type": "code",
      "source": [],
      "metadata": {
        "id": "yfvif_OTlajx"
      },
      "execution_count": 18,
      "outputs": []
    },
    {
      "cell_type": "code",
      "source": [],
      "metadata": {
        "id": "Z4V7NLdxl7FB"
      },
      "execution_count": null,
      "outputs": []
    }
  ]
}