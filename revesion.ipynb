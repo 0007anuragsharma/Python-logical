{
  "nbformat": 4,
  "nbformat_minor": 0,
  "metadata": {
    "colab": {
      "provenance": [],
      "authorship_tag": "ABX9TyOmS/95d7i8NEK2frVPAyB7",
      "include_colab_link": true
    },
    "kernelspec": {
      "name": "python3",
      "display_name": "Python 3"
    },
    "language_info": {
      "name": "python"
    }
  },
  "cells": [
    {
      "cell_type": "markdown",
      "metadata": {
        "id": "view-in-github",
        "colab_type": "text"
      },
      "source": [
        "<a href=\"https://colab.research.google.com/github/0007anuragsharma/Python-logical/blob/main/revesion.ipynb\" target=\"_parent\"><img src=\"https://colab.research.google.com/assets/colab-badge.svg\" alt=\"Open In Colab\"/></a>"
      ]
    },
    {
      "cell_type": "code",
      "execution_count": 1,
      "metadata": {
        "colab": {
          "base_uri": "https://localhost:8080/"
        },
        "id": "J3lYJMB2P8vh",
        "outputId": "30c73aaa-6d72-41c8-d506-99f328baba57"
      },
      "outputs": [
        {
          "output_type": "stream",
          "name": "stdout",
          "text": [
            "{1, 2, 3, 4}\n"
          ]
        }
      ],
      "source": [
        "ue=set([1,2,2,3,4,4])\n",
        "print(ue)"
      ]
    },
    {
      "cell_type": "code",
      "source": [
        "set_a={1,2,3}\n",
        "set_b={1,2,3,4,5}\n",
        "is_subset=set_a.issubset(set_b)\n",
        "print(is_subset)\n"
      ],
      "metadata": {
        "colab": {
          "base_uri": "https://localhost:8080/"
        },
        "id": "3HVAFWPLd-T4",
        "outputId": "73b42448-a701-4cb7-d96a-1edee9533d3d"
      },
      "execution_count": 3,
      "outputs": [
        {
          "output_type": "stream",
          "name": "stdout",
          "text": [
            "True\n"
          ]
        }
      ]
    },
    {
      "cell_type": "code",
      "source": [
        "vowels={'a','e','i','o','u'}\n",
        "string='hello'\n",
        "present_vowels = set(vowels).intersection(set(string))\n",
        "print(present_vowels)"
      ],
      "metadata": {
        "colab": {
          "base_uri": "https://localhost:8080/"
        },
        "id": "EjcYGEstfQeV",
        "outputId": "1dc51d2c-9bd3-4be1-ac0b-8a219ed47956"
      },
      "execution_count": 5,
      "outputs": [
        {
          "output_type": "stream",
          "name": "stdout",
          "text": [
            "{'e', 'o'}\n"
          ]
        }
      ]
    },
    {
      "cell_type": "code",
      "source": [
        "set_x={1,2,3}\n",
        "set_y={3,4,5}\n",
        "symmetric_difference=set_x.symmetric_difference(set_y)\n",
        "print(symmetric_difference)"
      ],
      "metadata": {
        "colab": {
          "base_uri": "https://localhost:8080/"
        },
        "id": "XnSg3ypahTHS",
        "outputId": "3669a7ca-0f7e-4273-f43c-ee0252466917"
      },
      "execution_count": 6,
      "outputs": [
        {
          "output_type": "stream",
          "name": "stdout",
          "text": [
            "{1, 2, 4, 5}\n"
          ]
        }
      ]
    },
    {
      "cell_type": "code",
      "source": [
        "my_string='abcdr'\n",
        "my_set=set(my_string)\n",
        "is_present='a' in my_set\n",
        "print(is_present)"
      ],
      "metadata": {
        "colab": {
          "base_uri": "https://localhost:8080/"
        },
        "id": "2vR0hqE9huRC",
        "outputId": "d86c9450-9618-49a7-aed7-4b27c79be317"
      },
      "execution_count": 7,
      "outputs": [
        {
          "output_type": "stream",
          "name": "stdout",
          "text": [
            "True\n"
          ]
        }
      ]
    },
    {
      "cell_type": "code",
      "source": [
        "my_set={1,2,3}\n",
        "my_set.discard(4)"
      ],
      "metadata": {
        "id": "xIZSQtXaiuJI"
      },
      "execution_count": 8,
      "outputs": []
    },
    {
      "cell_type": "code",
      "source": [
        "set_one={1,2,3,4}\n",
        "set_two={3,4,5,6}\n",
        "intersection_set=set_one.intersection(set_two)\n",
        "print(intersection_set)\n"
      ],
      "metadata": {
        "colab": {
          "base_uri": "https://localhost:8080/"
        },
        "id": "04mM1dqvi7Iu",
        "outputId": "cb0475f1-a7ee-4e26-d014-89e52ace15f7"
      },
      "execution_count": 9,
      "outputs": [
        {
          "output_type": "stream",
          "name": "stdout",
          "text": [
            "{3, 4}\n"
          ]
        }
      ]
    },
    {
      "cell_type": "code",
      "source": [
        "set_a= {1,2,3}\n",
        "set_b={4,5,6}\n",
        "are_disjoint=set_a.isdisjoint(set_b)\n",
        "print(are_disjoint)\n"
      ],
      "metadata": {
        "colab": {
          "base_uri": "https://localhost:8080/"
        },
        "id": "yHV6g9H-kBbf",
        "outputId": "a36dc462-17f9-44b1-afe6-be1f9a962113"
      },
      "execution_count": 10,
      "outputs": [
        {
          "output_type": "stream",
          "name": "stdout",
          "text": [
            "True\n"
          ]
        }
      ]
    },
    {
      "cell_type": "code",
      "source": [
        "my_set={1,2,3}\n",
        "frozen=frozenset(my_set) #frozenset({1,2,3})\n",
        "#a frozenset is immutable,meaning you cannot add or remove elements from it"
      ],
      "metadata": {
        "colab": {
          "base_uri": "https://localhost:8080/"
        },
        "id": "y-Bmv1h9kXMj",
        "outputId": "f434f652-a412-4681-d9c7-2204529a1195"
      },
      "execution_count": 11,
      "outputs": [
        {
          "output_type": "stream",
          "name": "stdout",
          "text": [
            "False\n"
          ]
        }
      ]
    },
    {
      "cell_type": "code",
      "source": [
        "my_list =[1,2,2,3,4,4]\n",
        "my_set=set(my_list)\n",
        "print(my_set)\n",
        "\n"
      ],
      "metadata": {
        "colab": {
          "base_uri": "https://localhost:8080/"
        },
        "id": "7CxBHWXNlM_v",
        "outputId": "b62dcacd-5605-4d78-bb56-093a5c70e65d"
      },
      "execution_count": 13,
      "outputs": [
        {
          "output_type": "stream",
          "name": "stdout",
          "text": [
            "{1, 2, 3, 4}\n"
          ]
        }
      ]
    },
    {
      "cell_type": "code",
      "source": [
        "set_a={1,2}\n",
        "set_b={2,3}\n",
        "set_c={3,4}\n",
        "Union_set=set_a.union(set_b,set_c)\n",
        "print(Union_set)"
      ],
      "metadata": {
        "colab": {
          "base_uri": "https://localhost:8080/"
        },
        "id": "wtO_AmoAlw-A",
        "outputId": "8e9b798e-a670-4648-cb40-81bdb4b222df"
      },
      "execution_count": 15,
      "outputs": [
        {
          "output_type": "stream",
          "name": "stdout",
          "text": [
            "{1, 2, 3, 4}\n"
          ]
        }
      ]
    }
  ]
}