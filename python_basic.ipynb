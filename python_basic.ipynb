{
  "nbformat": 4,
  "nbformat_minor": 0,
  "metadata": {
    "colab": {
      "provenance": [],
      "authorship_tag": "ABX9TyN4L22OQtFMbgN7AgmlgTRS",
      "include_colab_link": true
    },
    "kernelspec": {
      "name": "python3",
      "display_name": "Python 3"
    },
    "language_info": {
      "name": "python"
    }
  },
  "cells": [
    {
      "cell_type": "markdown",
      "metadata": {
        "id": "view-in-github",
        "colab_type": "text"
      },
      "source": [
        "<a href=\"https://colab.research.google.com/github/0007anuragsharma/Python-logical/blob/main/python_basic.ipynb\" target=\"_parent\"><img src=\"https://colab.research.google.com/assets/colab-badge.svg\" alt=\"Open In Colab\"/></a>"
      ]
    },
    {
      "cell_type": "code",
      "execution_count": null,
      "metadata": {
        "colab": {
          "base_uri": "https://localhost:8080/"
        },
        "id": "-EmF8hMXoAKI",
        "outputId": "613a24d1-b336-4f3d-b8f1-c96a200a0748"
      },
      "outputs": [
        {
          "output_type": "stream",
          "name": "stdout",
          "text": [
            "my company name is regex\n"
          ]
        }
      ],
      "source": [
        "company = 'regex'\n",
        "print(f'my company name is {company}')"
      ]
    },
    {
      "cell_type": "code",
      "source": [
        "age=60\n",
        "category='senior'\n",
        "print(f'my age is {age} i belong to {category} citizen')"
      ],
      "metadata": {
        "colab": {
          "base_uri": "https://localhost:8080/"
        },
        "id": "6Q53zI4AukCb",
        "outputId": "66018619-7bf1-4e36-df17-22c4755b694a"
      },
      "execution_count": null,
      "outputs": [
        {
          "output_type": "stream",
          "name": "stdout",
          "text": [
            "my age is 60 i belong to senior citizen\n"
          ]
        }
      ]
    },
    {
      "cell_type": "code",
      "source": [
        "print('hey {} my name is {}'.format(\"anurag\",\"ajay\"))"
      ],
      "metadata": {
        "colab": {
          "base_uri": "https://localhost:8080/"
        },
        "id": "py4qNRU_u_qJ",
        "outputId": "da56b9d6-25b9-4bed-cfec-6ba3d3ee3128"
      },
      "execution_count": null,
      "outputs": [
        {
          "output_type": "stream",
          "name": "stdout",
          "text": [
            "hey anurag my name is ajay\n"
          ]
        }
      ]
    },
    {
      "cell_type": "code",
      "source": [
        "print('hey {1} my name is {0}'.format(\"anurag\",\"ajay\"))"
      ],
      "metadata": {
        "colab": {
          "base_uri": "https://localhost:8080/"
        },
        "id": "fNoq1T_jwa5l",
        "outputId": "17d01f9c-d6c5-4724-840f-5ae19618e2ae"
      },
      "execution_count": null,
      "outputs": [
        {
          "output_type": "stream",
          "name": "stdout",
          "text": [
            "hey ajay my name is anurag\n"
          ]
        }
      ]
    },
    {
      "cell_type": "code",
      "source": [
        "address='''b 35 basant bahar\n",
        "gopalpura'''\n",
        "print(address)"
      ],
      "metadata": {
        "colab": {
          "base_uri": "https://localhost:8080/"
        },
        "id": "ycwPAGIGxUHj",
        "outputId": "d5dcb84c-4a97-486f-887e-1ffcb587e7de"
      },
      "execution_count": null,
      "outputs": [
        {
          "output_type": "stream",
          "name": "stdout",
          "text": [
            "b 35 basant bahar \n",
            "gopalpura\n"
          ]
        }
      ]
    },
    {
      "cell_type": "code",
      "source": [
        "#integers are not iterable\n"
      ],
      "metadata": {
        "id": "hVs3UqS43wey"
      },
      "execution_count": null,
      "outputs": []
    },
    {
      "cell_type": "code",
      "source": [
        "#bitwise operator\n",
        "6&12"
      ],
      "metadata": {
        "colab": {
          "base_uri": "https://localhost:8080/"
        },
        "id": "Xu8k1BDB8dNJ",
        "outputId": "f5409b2a-8285-4500-c496-386108f33259"
      },
      "execution_count": null,
      "outputs": [
        {
          "output_type": "execute_result",
          "data": {
            "text/plain": [
              "4"
            ]
          },
          "metadata": {},
          "execution_count": 10
        }
      ]
    },
    {
      "cell_type": "code",
      "source": [
        "19>>1\n",
        "#formula=number // 2**bit(right shift)\n",
        "#number * 2**bit(left shift)\n",
        "#19//2**1\n",
        "#19//2\n",
        "\n",
        "22<<3"
      ],
      "metadata": {
        "colab": {
          "base_uri": "https://localhost:8080/"
        },
        "id": "xRhY0qv2-TXQ",
        "outputId": "bb68a61f-b510-43fb-abd3-701cb6f0c2fd"
      },
      "execution_count": null,
      "outputs": [
        {
          "output_type": "execute_result",
          "data": {
            "text/plain": [
              "176"
            ]
          },
          "metadata": {},
          "execution_count": 11
        }
      ]
    },
    {
      "cell_type": "code",
      "source": [
        "age=25\n",
        "if(age==18 or age==25):\n",
        "  print(\"young\")\n",
        "else:\n",
        "  print(\"child\")"
      ],
      "metadata": {
        "colab": {
          "base_uri": "https://localhost:8080/"
        },
        "id": "IQc7gYEMIAXX",
        "outputId": "4eb65e53-d378-4377-f71f-a19d560909c0"
      },
      "execution_count": null,
      "outputs": [
        {
          "output_type": "stream",
          "name": "stdout",
          "text": [
            "young\n"
          ]
        }
      ]
    },
    {
      "cell_type": "code",
      "source": [
        "n=0\n",
        "if(n>0 or n<0):\n",
        "  print(\"interger\")\n",
        "else:\n",
        "  print(\"zero\")"
      ],
      "metadata": {
        "colab": {
          "base_uri": "https://localhost:8080/"
        },
        "id": "bdCwX6iQILki",
        "outputId": "c7c06884-0786-487d-a4e6-d82a7dea7e8e"
      },
      "execution_count": null,
      "outputs": [
        {
          "output_type": "stream",
          "name": "stdout",
          "text": [
            "zero\n"
          ]
        }
      ]
    },
    {
      "cell_type": "code",
      "source": [
        "n=-1\n",
        "if(n>0):\n",
        "  print(\"positive\")\n",
        "elif(n<0):\n",
        "  print(\"neagitive\")\n",
        "else:\n",
        "  print('neutrul')"
      ],
      "metadata": {
        "colab": {
          "base_uri": "https://localhost:8080/"
        },
        "id": "sI1LVcH1Ix7j",
        "outputId": "7f284992-3c61-41a5-de82-977a2a4a92e9"
      },
      "execution_count": null,
      "outputs": [
        {
          "output_type": "stream",
          "name": "stdout",
          "text": [
            "neagitive\n"
          ]
        }
      ]
    },
    {
      "cell_type": "code",
      "source": [
        "a=10\n",
        "b=2\n",
        "if(a>b):\n",
        "  print(\"a is grater\")\n",
        "else:\n",
        "  print(\"b is greater\")"
      ],
      "metadata": {
        "colab": {
          "base_uri": "https://localhost:8080/"
        },
        "id": "2Xb5OJBVJdO0",
        "outputId": "6fc99471-06ba-491c-fb8b-d54623be38ee"
      },
      "execution_count": null,
      "outputs": [
        {
          "output_type": "stream",
          "name": "stdout",
          "text": [
            "a is grater\n"
          ]
        }
      ]
    },
    {
      "cell_type": "code",
      "source": [
        "a=int(input())\n",
        "if(a>10 and a<18):\n",
        "  print(\"young\")\n",
        "elif(a>=18 and a<=25):\n",
        "  print(\"adult\")\n",
        "elif(a>26 and a<60):\n",
        "  print('citizen')\n",
        "else:\n",
        "  print(\"child\")"
      ],
      "metadata": {
        "colab": {
          "base_uri": "https://localhost:8080/"
        },
        "id": "1cvEpfs9NCmF",
        "outputId": "75f4b27f-3bd0-45be-f295-39654a16c9b5"
      },
      "execution_count": null,
      "outputs": [
        {
          "output_type": "stream",
          "name": "stdout",
          "text": [
            "54\n",
            "citizen\n"
          ]
        }
      ]
    }
  ]
}